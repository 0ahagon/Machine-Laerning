{
 "cells": [
  {
   "cell_type": "code",
   "execution_count": 1,
   "metadata": {},
   "outputs": [],
   "source": [
    "import pandas as pd\n",
    "import numpy as np\n",
    "import matplotlib.pyplot as plt\n",
    "import seaborn as sns\n",
    "%matplotlib inline\n",
    "\n",
    "import statsmodels.api as sm\n",
    "import statsmodels.formula.api as smf\n",
    "from sklearn.linear_model import LogisticRegression\n",
    "from sklearn.metrics import roc_auc_score, roc_curve, classification_report,\\\n",
    "                            accuracy_score, confusion_matrix, auc\n",
    "\n",
    "from sklearn.datasets import load_iris\n",
    "from sklearn.model_selection import train_test_split\n",
    "from sklearn.ensemble import RandomForestClassifier"
   ]
  },
  {
   "cell_type": "markdown",
   "metadata": {},
   "source": [
    "# About data set\n",
    "This database contains 76 attributes, but all published experiments refer to using a subset of 14 of them. In particular, the Cleveland database is the only one that has been used by ML researchers to\n",
    "this date.The \"target\" field refers to the presence of heart disease in the patient. It is integer valued 0 = no/less chance of heart attack and 1 = more chance of heart attack\n",
    "\n",
    "Attribute Information\n",
    "1) age\n",
    "\n",
    "2) sex (1 = male; 0 = female) \n",
    "\n",
    "3) chest pain type (4 values)\n",
    "\n",
    "4) resting blood pressure\n",
    "\n",
    "5) serum cholestoral in mg/dl\n",
    "\n",
    "6)fasting blood sugar > 120 mg/dl\n",
    "\n",
    "7) resting electrocardiographic results (values 0,1,2)\n",
    "\n",
    "8) maximum heart rate achieved\n",
    "\n",
    "9) exercise induced angina\n",
    "\n",
    "10) oldpeak = ST depression induced by exercise relative to rest\n",
    "\n",
    "11)the slope of the peak exercise ST segment\n",
    "\n",
    "12) number of major vessels (0-3) colored by flourosopy\n",
    "\n",
    "13) thal: 0 = normal; 1 = fixed defect; 2 = reversable defect\n",
    "\n",
    "14) target: 0= less chance of heart attack 1= more chance of heart attack"
   ]
  },
  {
   "cell_type": "code",
   "execution_count": 2,
   "metadata": {},
   "outputs": [
    {
     "data": {
      "text/html": [
       "<div>\n",
       "<style scoped>\n",
       "    .dataframe tbody tr th:only-of-type {\n",
       "        vertical-align: middle;\n",
       "    }\n",
       "\n",
       "    .dataframe tbody tr th {\n",
       "        vertical-align: top;\n",
       "    }\n",
       "\n",
       "    .dataframe thead th {\n",
       "        text-align: right;\n",
       "    }\n",
       "</style>\n",
       "<table border=\"1\" class=\"dataframe\">\n",
       "  <thead>\n",
       "    <tr style=\"text-align: right;\">\n",
       "      <th></th>\n",
       "      <th>age</th>\n",
       "      <th>sex</th>\n",
       "      <th>cp</th>\n",
       "      <th>trestbps</th>\n",
       "      <th>chol</th>\n",
       "      <th>fbs</th>\n",
       "      <th>restecg</th>\n",
       "      <th>thalach</th>\n",
       "      <th>exang</th>\n",
       "      <th>oldpeak</th>\n",
       "      <th>slope</th>\n",
       "      <th>ca</th>\n",
       "      <th>thal</th>\n",
       "      <th>target</th>\n",
       "    </tr>\n",
       "  </thead>\n",
       "  <tbody>\n",
       "    <tr>\n",
       "      <td>130</td>\n",
       "      <td>54</td>\n",
       "      <td>0</td>\n",
       "      <td>2</td>\n",
       "      <td>160</td>\n",
       "      <td>201</td>\n",
       "      <td>0</td>\n",
       "      <td>1</td>\n",
       "      <td>163</td>\n",
       "      <td>0</td>\n",
       "      <td>0.0</td>\n",
       "      <td>2</td>\n",
       "      <td>1</td>\n",
       "      <td>2</td>\n",
       "      <td>1</td>\n",
       "    </tr>\n",
       "    <tr>\n",
       "      <td>33</td>\n",
       "      <td>54</td>\n",
       "      <td>1</td>\n",
       "      <td>2</td>\n",
       "      <td>125</td>\n",
       "      <td>273</td>\n",
       "      <td>0</td>\n",
       "      <td>0</td>\n",
       "      <td>152</td>\n",
       "      <td>0</td>\n",
       "      <td>0.5</td>\n",
       "      <td>0</td>\n",
       "      <td>1</td>\n",
       "      <td>2</td>\n",
       "      <td>1</td>\n",
       "    </tr>\n",
       "    <tr>\n",
       "      <td>215</td>\n",
       "      <td>43</td>\n",
       "      <td>0</td>\n",
       "      <td>0</td>\n",
       "      <td>132</td>\n",
       "      <td>341</td>\n",
       "      <td>1</td>\n",
       "      <td>0</td>\n",
       "      <td>136</td>\n",
       "      <td>1</td>\n",
       "      <td>3.0</td>\n",
       "      <td>1</td>\n",
       "      <td>0</td>\n",
       "      <td>3</td>\n",
       "      <td>0</td>\n",
       "    </tr>\n",
       "    <tr>\n",
       "      <td>177</td>\n",
       "      <td>64</td>\n",
       "      <td>1</td>\n",
       "      <td>2</td>\n",
       "      <td>140</td>\n",
       "      <td>335</td>\n",
       "      <td>0</td>\n",
       "      <td>1</td>\n",
       "      <td>158</td>\n",
       "      <td>0</td>\n",
       "      <td>0.0</td>\n",
       "      <td>2</td>\n",
       "      <td>0</td>\n",
       "      <td>2</td>\n",
       "      <td>0</td>\n",
       "    </tr>\n",
       "    <tr>\n",
       "      <td>151</td>\n",
       "      <td>71</td>\n",
       "      <td>0</td>\n",
       "      <td>0</td>\n",
       "      <td>112</td>\n",
       "      <td>149</td>\n",
       "      <td>0</td>\n",
       "      <td>1</td>\n",
       "      <td>125</td>\n",
       "      <td>0</td>\n",
       "      <td>1.6</td>\n",
       "      <td>1</td>\n",
       "      <td>0</td>\n",
       "      <td>2</td>\n",
       "      <td>1</td>\n",
       "    </tr>\n",
       "  </tbody>\n",
       "</table>\n",
       "</div>"
      ],
      "text/plain": [
       "     age  sex  cp  trestbps  chol  fbs  restecg  thalach  exang  oldpeak  \\\n",
       "130   54    0   2       160   201    0        1      163      0      0.0   \n",
       "33    54    1   2       125   273    0        0      152      0      0.5   \n",
       "215   43    0   0       132   341    1        0      136      1      3.0   \n",
       "177   64    1   2       140   335    0        1      158      0      0.0   \n",
       "151   71    0   0       112   149    0        1      125      0      1.6   \n",
       "\n",
       "     slope  ca  thal  target  \n",
       "130      2   1     2       1  \n",
       "33       0   1     2       1  \n",
       "215      1   0     3       0  \n",
       "177      2   0     2       0  \n",
       "151      1   0     2       1  "
      ]
     },
     "execution_count": 2,
     "metadata": {},
     "output_type": "execute_result"
    }
   ],
   "source": [
    "dado = pd.read_csv('DADOS/heart.csv')\n",
    "dado.sample(5)"
   ]
  },
  {
   "cell_type": "code",
   "execution_count": 3,
   "metadata": {},
   "outputs": [],
   "source": [
    "colunas_traducao = {\n",
    "'age' : 'idade',\n",
    "'sex' : 'sexo'  ,     \n",
    "'cp' : 'tp_dor_tox'   ,\n",
    "'trestbps' : 'pres_arterial'          ,\n",
    "'chol' : 'colestoral_sérico'         ,      \n",
    "'fbs' : 'glicemia_jejum',    \n",
    "'restecg' : 'result_eletrocardio'   ,\n",
    "'thalach' : 'frequ_card_max'            ,\n",
    "'exang' : 'angina_induzida',\n",
    "'oldpeak' : 'pico_antigo'  ,\n",
    "'slope' : 'incli_seg_ST'      ,\n",
    "'ca' : 'nu_vaso_principais',\n",
    "'thal' : 'thal',\n",
    "'target' :  'target'\n",
    "}"
   ]
  },
  {
   "cell_type": "code",
   "execution_count": 4,
   "metadata": {},
   "outputs": [],
   "source": [
    "dado = dado.rename(columns = colunas_traducao)"
   ]
  },
  {
   "cell_type": "code",
   "execution_count": 5,
   "metadata": {},
   "outputs": [
    {
     "data": {
      "text/html": [
       "<div>\n",
       "<style scoped>\n",
       "    .dataframe tbody tr th:only-of-type {\n",
       "        vertical-align: middle;\n",
       "    }\n",
       "\n",
       "    .dataframe tbody tr th {\n",
       "        vertical-align: top;\n",
       "    }\n",
       "\n",
       "    .dataframe thead th {\n",
       "        text-align: right;\n",
       "    }\n",
       "</style>\n",
       "<table border=\"1\" class=\"dataframe\">\n",
       "  <thead>\n",
       "    <tr style=\"text-align: right;\">\n",
       "      <th></th>\n",
       "      <th>idade</th>\n",
       "      <th>sexo</th>\n",
       "      <th>tp_dor_tox</th>\n",
       "      <th>pres_arterial</th>\n",
       "      <th>colestoral_sérico</th>\n",
       "      <th>glicemia_jejum</th>\n",
       "      <th>result_eletrocardio</th>\n",
       "      <th>frequ_card_max</th>\n",
       "      <th>angina_induzida</th>\n",
       "      <th>pico_antigo</th>\n",
       "      <th>incli_seg_ST</th>\n",
       "      <th>nu_vaso_principais</th>\n",
       "      <th>thal</th>\n",
       "      <th>target</th>\n",
       "    </tr>\n",
       "  </thead>\n",
       "  <tbody>\n",
       "    <tr>\n",
       "      <td>128</td>\n",
       "      <td>52</td>\n",
       "      <td>0</td>\n",
       "      <td>2</td>\n",
       "      <td>136</td>\n",
       "      <td>196</td>\n",
       "      <td>0</td>\n",
       "      <td>0</td>\n",
       "      <td>169</td>\n",
       "      <td>0</td>\n",
       "      <td>0.1</td>\n",
       "      <td>1</td>\n",
       "      <td>0</td>\n",
       "      <td>2</td>\n",
       "      <td>1</td>\n",
       "    </tr>\n",
       "    <tr>\n",
       "      <td>231</td>\n",
       "      <td>57</td>\n",
       "      <td>1</td>\n",
       "      <td>0</td>\n",
       "      <td>165</td>\n",
       "      <td>289</td>\n",
       "      <td>1</td>\n",
       "      <td>0</td>\n",
       "      <td>124</td>\n",
       "      <td>0</td>\n",
       "      <td>1.0</td>\n",
       "      <td>1</td>\n",
       "      <td>3</td>\n",
       "      <td>3</td>\n",
       "      <td>0</td>\n",
       "    </tr>\n",
       "    <tr>\n",
       "      <td>32</td>\n",
       "      <td>44</td>\n",
       "      <td>1</td>\n",
       "      <td>1</td>\n",
       "      <td>130</td>\n",
       "      <td>219</td>\n",
       "      <td>0</td>\n",
       "      <td>0</td>\n",
       "      <td>188</td>\n",
       "      <td>0</td>\n",
       "      <td>0.0</td>\n",
       "      <td>2</td>\n",
       "      <td>0</td>\n",
       "      <td>2</td>\n",
       "      <td>1</td>\n",
       "    </tr>\n",
       "    <tr>\n",
       "      <td>267</td>\n",
       "      <td>49</td>\n",
       "      <td>1</td>\n",
       "      <td>2</td>\n",
       "      <td>118</td>\n",
       "      <td>149</td>\n",
       "      <td>0</td>\n",
       "      <td>0</td>\n",
       "      <td>126</td>\n",
       "      <td>0</td>\n",
       "      <td>0.8</td>\n",
       "      <td>2</td>\n",
       "      <td>3</td>\n",
       "      <td>2</td>\n",
       "      <td>0</td>\n",
       "    </tr>\n",
       "    <tr>\n",
       "      <td>0</td>\n",
       "      <td>63</td>\n",
       "      <td>1</td>\n",
       "      <td>3</td>\n",
       "      <td>145</td>\n",
       "      <td>233</td>\n",
       "      <td>1</td>\n",
       "      <td>0</td>\n",
       "      <td>150</td>\n",
       "      <td>0</td>\n",
       "      <td>2.3</td>\n",
       "      <td>0</td>\n",
       "      <td>0</td>\n",
       "      <td>1</td>\n",
       "      <td>1</td>\n",
       "    </tr>\n",
       "  </tbody>\n",
       "</table>\n",
       "</div>"
      ],
      "text/plain": [
       "     idade  sexo  tp_dor_tox  pres_arterial  colestoral_sérico  \\\n",
       "128     52     0           2            136                196   \n",
       "231     57     1           0            165                289   \n",
       "32      44     1           1            130                219   \n",
       "267     49     1           2            118                149   \n",
       "0       63     1           3            145                233   \n",
       "\n",
       "     glicemia_jejum  result_eletrocardio  frequ_card_max  angina_induzida  \\\n",
       "128               0                    0             169                0   \n",
       "231               1                    0             124                0   \n",
       "32                0                    0             188                0   \n",
       "267               0                    0             126                0   \n",
       "0                 1                    0             150                0   \n",
       "\n",
       "     pico_antigo  incli_seg_ST  nu_vaso_principais  thal  target  \n",
       "128          0.1             1                   0     2       1  \n",
       "231          1.0             1                   3     3       0  \n",
       "32           0.0             2                   0     2       1  \n",
       "267          0.8             2                   3     2       0  \n",
       "0            2.3             0                   0     1       1  "
      ]
     },
     "execution_count": 5,
     "metadata": {},
     "output_type": "execute_result"
    }
   ],
   "source": [
    "dado.sample(5)"
   ]
  },
  {
   "cell_type": "markdown",
   "metadata": {},
   "source": [
    "# QUAL SEXO TEM MAIOR CHANCE DE TER ?"
   ]
  },
  {
   "cell_type": "code",
   "execution_count": 6,
   "metadata": {},
   "outputs": [],
   "source": [
    "# Transforma sexo em categorico\n",
    "dado['sexo'] = dado['sexo'].astype('category')\n"
   ]
  },
  {
   "cell_type": "code",
   "execution_count": null,
   "metadata": {},
   "outputs": [],
   "source": []
  },
  {
   "cell_type": "code",
   "execution_count": 7,
   "metadata": {},
   "outputs": [
    {
     "name": "stdout",
     "output_type": "stream",
     "text": [
      "                 Generalized Linear Model Regression Results                  \n",
      "==============================================================================\n",
      "Dep. Variable:                 target   No. Observations:                  303\n",
      "Model:                            GLM   Df Residuals:                      297\n",
      "Model Family:                Binomial   Df Model:                            5\n",
      "Link Function:                  logit   Scale:                          1.0000\n",
      "Method:                          IRLS   Log-Likelihood:                -136.15\n",
      "Date:                Tue, 19 Jul 2022   Deviance:                       272.31\n",
      "Time:                        18:31:08   Pearson chi2:                     306.\n",
      "No. Iterations:                     5                                         \n",
      "Covariance Type:            nonrobust                                         \n",
      "======================================================================================\n",
      "                         coef    std err          z      P>|z|      [0.025      0.975]\n",
      "--------------------------------------------------------------------------------------\n",
      "Intercept              5.8638      1.219      4.812      0.000       3.475       8.252\n",
      "sexo[T.1]             -1.4522      0.359     -4.041      0.000      -2.157      -0.748\n",
      "idade                 -0.0520      0.018     -2.855      0.004      -0.088      -0.016\n",
      "thal                  -0.9582      0.250     -3.828      0.000      -1.449      -0.468\n",
      "nu_vaso_principais    -0.6928      0.160     -4.318      0.000      -1.007      -0.378\n",
      "tp_dor_tox             0.9705      0.158      6.144      0.000       0.661       1.280\n",
      "======================================================================================\n"
     ]
    }
   ],
   "source": [
    "modelo = smf.glm(formula='target ~ sexo + idade + thal + nu_vaso_principais + tp_dor_tox', data=dado,\n",
    "                family = sm.families.Binomial()).fit()\n",
    "print(modelo.summary())\n"
   ]
  },
  {
   "cell_type": "markdown",
   "metadata": {},
   "source": [
    "A função glm() ajusta-se aos modelos lineares generalizados, uma classe de modelos que inclui regressão logística. A sintaxe da função glm() é semelhante à de lm(), exceto que devemos passar o argumento family=sm.families.Binomial() para dizer ao python para executar uma regressão logística em vez de algum outro tipo de modelo linear generalizado."
   ]
  },
  {
   "cell_type": "code",
   "execution_count": 8,
   "metadata": {},
   "outputs": [
    {
     "name": "stdout",
     "output_type": "stream",
     "text": [
      "sexo[T.1]             0.234045\n",
      "idade                 0.949347\n",
      "thal                  0.383594\n",
      "nu_vaso_principais    0.500154\n",
      "tp_dor_tox            2.639195\n",
      "dtype: float64\n"
     ]
    }
   ],
   "source": [
    "print(np.exp(modelo.params[1:])) # a probabilidade de ser/fazer sobre a de não ser/fazer- qq valor abaixo de 1 diminui a chance de ser/ fazer acima de 1 aumenta"
   ]
  },
  {
   "cell_type": "markdown",
   "metadata": {},
   "source": [
    "interpretando os dados : homens possuem 0.23 chance de terem ataque  do coração\n",
    "\n",
    "    para cada ano a mais o individuo tem 0.94 chance que outro individuo com um ano a menos"
   ]
  },
  {
   "cell_type": "code",
   "execution_count": 9,
   "metadata": {},
   "outputs": [
    {
     "data": {
      "text/plain": [
       "sexo[T.1]             18.965699\n",
       "idade                 48.700780\n",
       "thal                  27.724447\n",
       "nu_vaso_principais    33.340161\n",
       "tp_dor_tox            72.521399\n",
       "dtype: float64"
      ]
     },
     "execution_count": 9,
     "metadata": {},
     "output_type": "execute_result"
    }
   ],
   "source": [
    "(np.exp(modelo.params[1:]) / (np.exp(modelo.params[1:]) +1 )) * 100  #probabilidade de fazer apenas\n"
   ]
  },
  {
   "cell_type": "markdown",
   "metadata": {},
   "source": [
    "Podemos também gerar os mesmos dados em percentuais relativos de chances para compará-los e obter uma interpretação parecida com a interpretação da regressão linear, mas em termos de chances.\n",
    "\n",
    "\n",
    "\n",
    "Homens possuem 76 % menos chance do que mulheres de terem um ataque do coração\n",
    "Para cada ano a mais de idade, as chances diminuem 5.06%."
   ]
  },
  {
   "cell_type": "markdown",
   "metadata": {},
   "source": [
    "# utilizando scikit-learn "
   ]
  },
  {
   "cell_type": "code",
   "execution_count": null,
   "metadata": {},
   "outputs": [],
   "source": []
  },
  {
   "cell_type": "code",
   "execution_count": 10,
   "metadata": {},
   "outputs": [],
   "source": [
    "X = dado[['idade','sexo','tp_dor_tox','pres_arterial','colestoral_sérico','glicemia_jejum',    \n",
    "'result_eletrocardio'   ,\n",
    "'frequ_card_max'            ,\n",
    "'angina_induzida',\n",
    "'pico_antigo'  ,\n",
    "'incli_seg_ST'      ,\n",
    " 'nu_vaso_principais',\n",
    " 'thal']]\n",
    "Y= dado.target# Criando conjunto de treino e teste\n"
   ]
  },
  {
   "cell_type": "code",
   "execution_count": 11,
   "metadata": {},
   "outputs": [
    {
     "data": {
      "text/plain": [
       "LogisticRegression(C=1.0, class_weight=None, dual=False, fit_intercept=True,\n",
       "                   intercept_scaling=1, l1_ratio=None, max_iter=100,\n",
       "                   multi_class='warn', n_jobs=None, penalty='none',\n",
       "                   random_state=None, solver='newton-cg', tol=0.0001, verbose=0,\n",
       "                   warm_start=False)"
      ]
     },
     "execution_count": 11,
     "metadata": {},
     "output_type": "execute_result"
    }
   ],
   "source": [
    "model = LogisticRegression(penalty='none', solver='newton-cg')\n",
    "model.fit(X,Y)\n"
   ]
  },
  {
   "cell_type": "code",
   "execution_count": 12,
   "metadata": {},
   "outputs": [
    {
     "data": {
      "text/html": [
       "<div>\n",
       "<style scoped>\n",
       "    .dataframe tbody tr th:only-of-type {\n",
       "        vertical-align: middle;\n",
       "    }\n",
       "\n",
       "    .dataframe tbody tr th {\n",
       "        vertical-align: top;\n",
       "    }\n",
       "\n",
       "    .dataframe thead th {\n",
       "        text-align: right;\n",
       "    }\n",
       "</style>\n",
       "<table border=\"1\" class=\"dataframe\">\n",
       "  <thead>\n",
       "    <tr style=\"text-align: right;\">\n",
       "      <th></th>\n",
       "      <th>idade</th>\n",
       "      <th>tp_dor_tox</th>\n",
       "      <th>pres_arterial</th>\n",
       "      <th>colestoral_sérico</th>\n",
       "      <th>glicemia_jejum</th>\n",
       "      <th>result_eletrocardio</th>\n",
       "      <th>frequ_card_max</th>\n",
       "      <th>angina_induzida</th>\n",
       "      <th>pico_antigo</th>\n",
       "      <th>incli_seg_ST</th>\n",
       "      <th>nu_vaso_principais</th>\n",
       "      <th>thal</th>\n",
       "      <th>target</th>\n",
       "    </tr>\n",
       "  </thead>\n",
       "  <tbody>\n",
       "    <tr>\n",
       "      <td>idade</td>\n",
       "      <td>1.000000</td>\n",
       "      <td>-0.068653</td>\n",
       "      <td>0.279351</td>\n",
       "      <td>0.213678</td>\n",
       "      <td>0.121308</td>\n",
       "      <td>-0.116211</td>\n",
       "      <td>-0.398522</td>\n",
       "      <td>0.096801</td>\n",
       "      <td>0.210013</td>\n",
       "      <td>-0.168814</td>\n",
       "      <td>0.276326</td>\n",
       "      <td>0.068001</td>\n",
       "      <td>-0.225439</td>\n",
       "    </tr>\n",
       "    <tr>\n",
       "      <td>tp_dor_tox</td>\n",
       "      <td>-0.068653</td>\n",
       "      <td>1.000000</td>\n",
       "      <td>0.047608</td>\n",
       "      <td>-0.076904</td>\n",
       "      <td>0.094444</td>\n",
       "      <td>0.044421</td>\n",
       "      <td>0.295762</td>\n",
       "      <td>-0.394280</td>\n",
       "      <td>-0.149230</td>\n",
       "      <td>0.119717</td>\n",
       "      <td>-0.181053</td>\n",
       "      <td>-0.161736</td>\n",
       "      <td>0.433798</td>\n",
       "    </tr>\n",
       "    <tr>\n",
       "      <td>pres_arterial</td>\n",
       "      <td>0.279351</td>\n",
       "      <td>0.047608</td>\n",
       "      <td>1.000000</td>\n",
       "      <td>0.123174</td>\n",
       "      <td>0.177531</td>\n",
       "      <td>-0.114103</td>\n",
       "      <td>-0.046698</td>\n",
       "      <td>0.067616</td>\n",
       "      <td>0.193216</td>\n",
       "      <td>-0.121475</td>\n",
       "      <td>0.101389</td>\n",
       "      <td>0.062210</td>\n",
       "      <td>-0.144931</td>\n",
       "    </tr>\n",
       "    <tr>\n",
       "      <td>colestoral_sérico</td>\n",
       "      <td>0.213678</td>\n",
       "      <td>-0.076904</td>\n",
       "      <td>0.123174</td>\n",
       "      <td>1.000000</td>\n",
       "      <td>0.013294</td>\n",
       "      <td>-0.151040</td>\n",
       "      <td>-0.009940</td>\n",
       "      <td>0.067023</td>\n",
       "      <td>0.053952</td>\n",
       "      <td>-0.004038</td>\n",
       "      <td>0.070511</td>\n",
       "      <td>0.098803</td>\n",
       "      <td>-0.085239</td>\n",
       "    </tr>\n",
       "    <tr>\n",
       "      <td>glicemia_jejum</td>\n",
       "      <td>0.121308</td>\n",
       "      <td>0.094444</td>\n",
       "      <td>0.177531</td>\n",
       "      <td>0.013294</td>\n",
       "      <td>1.000000</td>\n",
       "      <td>-0.084189</td>\n",
       "      <td>-0.008567</td>\n",
       "      <td>0.025665</td>\n",
       "      <td>0.005747</td>\n",
       "      <td>-0.059894</td>\n",
       "      <td>0.137979</td>\n",
       "      <td>-0.032019</td>\n",
       "      <td>-0.028046</td>\n",
       "    </tr>\n",
       "    <tr>\n",
       "      <td>result_eletrocardio</td>\n",
       "      <td>-0.116211</td>\n",
       "      <td>0.044421</td>\n",
       "      <td>-0.114103</td>\n",
       "      <td>-0.151040</td>\n",
       "      <td>-0.084189</td>\n",
       "      <td>1.000000</td>\n",
       "      <td>0.044123</td>\n",
       "      <td>-0.070733</td>\n",
       "      <td>-0.058770</td>\n",
       "      <td>0.093045</td>\n",
       "      <td>-0.072042</td>\n",
       "      <td>-0.011981</td>\n",
       "      <td>0.137230</td>\n",
       "    </tr>\n",
       "    <tr>\n",
       "      <td>frequ_card_max</td>\n",
       "      <td>-0.398522</td>\n",
       "      <td>0.295762</td>\n",
       "      <td>-0.046698</td>\n",
       "      <td>-0.009940</td>\n",
       "      <td>-0.008567</td>\n",
       "      <td>0.044123</td>\n",
       "      <td>1.000000</td>\n",
       "      <td>-0.378812</td>\n",
       "      <td>-0.344187</td>\n",
       "      <td>0.386784</td>\n",
       "      <td>-0.213177</td>\n",
       "      <td>-0.096439</td>\n",
       "      <td>0.421741</td>\n",
       "    </tr>\n",
       "    <tr>\n",
       "      <td>angina_induzida</td>\n",
       "      <td>0.096801</td>\n",
       "      <td>-0.394280</td>\n",
       "      <td>0.067616</td>\n",
       "      <td>0.067023</td>\n",
       "      <td>0.025665</td>\n",
       "      <td>-0.070733</td>\n",
       "      <td>-0.378812</td>\n",
       "      <td>1.000000</td>\n",
       "      <td>0.288223</td>\n",
       "      <td>-0.257748</td>\n",
       "      <td>0.115739</td>\n",
       "      <td>0.206754</td>\n",
       "      <td>-0.436757</td>\n",
       "    </tr>\n",
       "    <tr>\n",
       "      <td>pico_antigo</td>\n",
       "      <td>0.210013</td>\n",
       "      <td>-0.149230</td>\n",
       "      <td>0.193216</td>\n",
       "      <td>0.053952</td>\n",
       "      <td>0.005747</td>\n",
       "      <td>-0.058770</td>\n",
       "      <td>-0.344187</td>\n",
       "      <td>0.288223</td>\n",
       "      <td>1.000000</td>\n",
       "      <td>-0.577537</td>\n",
       "      <td>0.222682</td>\n",
       "      <td>0.210244</td>\n",
       "      <td>-0.430696</td>\n",
       "    </tr>\n",
       "    <tr>\n",
       "      <td>incli_seg_ST</td>\n",
       "      <td>-0.168814</td>\n",
       "      <td>0.119717</td>\n",
       "      <td>-0.121475</td>\n",
       "      <td>-0.004038</td>\n",
       "      <td>-0.059894</td>\n",
       "      <td>0.093045</td>\n",
       "      <td>0.386784</td>\n",
       "      <td>-0.257748</td>\n",
       "      <td>-0.577537</td>\n",
       "      <td>1.000000</td>\n",
       "      <td>-0.080155</td>\n",
       "      <td>-0.104764</td>\n",
       "      <td>0.345877</td>\n",
       "    </tr>\n",
       "    <tr>\n",
       "      <td>nu_vaso_principais</td>\n",
       "      <td>0.276326</td>\n",
       "      <td>-0.181053</td>\n",
       "      <td>0.101389</td>\n",
       "      <td>0.070511</td>\n",
       "      <td>0.137979</td>\n",
       "      <td>-0.072042</td>\n",
       "      <td>-0.213177</td>\n",
       "      <td>0.115739</td>\n",
       "      <td>0.222682</td>\n",
       "      <td>-0.080155</td>\n",
       "      <td>1.000000</td>\n",
       "      <td>0.151832</td>\n",
       "      <td>-0.391724</td>\n",
       "    </tr>\n",
       "    <tr>\n",
       "      <td>thal</td>\n",
       "      <td>0.068001</td>\n",
       "      <td>-0.161736</td>\n",
       "      <td>0.062210</td>\n",
       "      <td>0.098803</td>\n",
       "      <td>-0.032019</td>\n",
       "      <td>-0.011981</td>\n",
       "      <td>-0.096439</td>\n",
       "      <td>0.206754</td>\n",
       "      <td>0.210244</td>\n",
       "      <td>-0.104764</td>\n",
       "      <td>0.151832</td>\n",
       "      <td>1.000000</td>\n",
       "      <td>-0.344029</td>\n",
       "    </tr>\n",
       "    <tr>\n",
       "      <td>target</td>\n",
       "      <td>-0.225439</td>\n",
       "      <td>0.433798</td>\n",
       "      <td>-0.144931</td>\n",
       "      <td>-0.085239</td>\n",
       "      <td>-0.028046</td>\n",
       "      <td>0.137230</td>\n",
       "      <td>0.421741</td>\n",
       "      <td>-0.436757</td>\n",
       "      <td>-0.430696</td>\n",
       "      <td>0.345877</td>\n",
       "      <td>-0.391724</td>\n",
       "      <td>-0.344029</td>\n",
       "      <td>1.000000</td>\n",
       "    </tr>\n",
       "  </tbody>\n",
       "</table>\n",
       "</div>"
      ],
      "text/plain": [
       "                        idade  tp_dor_tox  pres_arterial  colestoral_sérico  \\\n",
       "idade                1.000000   -0.068653       0.279351           0.213678   \n",
       "tp_dor_tox          -0.068653    1.000000       0.047608          -0.076904   \n",
       "pres_arterial        0.279351    0.047608       1.000000           0.123174   \n",
       "colestoral_sérico    0.213678   -0.076904       0.123174           1.000000   \n",
       "glicemia_jejum       0.121308    0.094444       0.177531           0.013294   \n",
       "result_eletrocardio -0.116211    0.044421      -0.114103          -0.151040   \n",
       "frequ_card_max      -0.398522    0.295762      -0.046698          -0.009940   \n",
       "angina_induzida      0.096801   -0.394280       0.067616           0.067023   \n",
       "pico_antigo          0.210013   -0.149230       0.193216           0.053952   \n",
       "incli_seg_ST        -0.168814    0.119717      -0.121475          -0.004038   \n",
       "nu_vaso_principais   0.276326   -0.181053       0.101389           0.070511   \n",
       "thal                 0.068001   -0.161736       0.062210           0.098803   \n",
       "target              -0.225439    0.433798      -0.144931          -0.085239   \n",
       "\n",
       "                     glicemia_jejum  result_eletrocardio  frequ_card_max  \\\n",
       "idade                      0.121308            -0.116211       -0.398522   \n",
       "tp_dor_tox                 0.094444             0.044421        0.295762   \n",
       "pres_arterial              0.177531            -0.114103       -0.046698   \n",
       "colestoral_sérico          0.013294            -0.151040       -0.009940   \n",
       "glicemia_jejum             1.000000            -0.084189       -0.008567   \n",
       "result_eletrocardio       -0.084189             1.000000        0.044123   \n",
       "frequ_card_max            -0.008567             0.044123        1.000000   \n",
       "angina_induzida            0.025665            -0.070733       -0.378812   \n",
       "pico_antigo                0.005747            -0.058770       -0.344187   \n",
       "incli_seg_ST              -0.059894             0.093045        0.386784   \n",
       "nu_vaso_principais         0.137979            -0.072042       -0.213177   \n",
       "thal                      -0.032019            -0.011981       -0.096439   \n",
       "target                    -0.028046             0.137230        0.421741   \n",
       "\n",
       "                     angina_induzida  pico_antigo  incli_seg_ST  \\\n",
       "idade                       0.096801     0.210013     -0.168814   \n",
       "tp_dor_tox                 -0.394280    -0.149230      0.119717   \n",
       "pres_arterial               0.067616     0.193216     -0.121475   \n",
       "colestoral_sérico           0.067023     0.053952     -0.004038   \n",
       "glicemia_jejum              0.025665     0.005747     -0.059894   \n",
       "result_eletrocardio        -0.070733    -0.058770      0.093045   \n",
       "frequ_card_max             -0.378812    -0.344187      0.386784   \n",
       "angina_induzida             1.000000     0.288223     -0.257748   \n",
       "pico_antigo                 0.288223     1.000000     -0.577537   \n",
       "incli_seg_ST               -0.257748    -0.577537      1.000000   \n",
       "nu_vaso_principais          0.115739     0.222682     -0.080155   \n",
       "thal                        0.206754     0.210244     -0.104764   \n",
       "target                     -0.436757    -0.430696      0.345877   \n",
       "\n",
       "                     nu_vaso_principais      thal    target  \n",
       "idade                          0.276326  0.068001 -0.225439  \n",
       "tp_dor_tox                    -0.181053 -0.161736  0.433798  \n",
       "pres_arterial                  0.101389  0.062210 -0.144931  \n",
       "colestoral_sérico              0.070511  0.098803 -0.085239  \n",
       "glicemia_jejum                 0.137979 -0.032019 -0.028046  \n",
       "result_eletrocardio           -0.072042 -0.011981  0.137230  \n",
       "frequ_card_max                -0.213177 -0.096439  0.421741  \n",
       "angina_induzida                0.115739  0.206754 -0.436757  \n",
       "pico_antigo                    0.222682  0.210244 -0.430696  \n",
       "incli_seg_ST                  -0.080155 -0.104764  0.345877  \n",
       "nu_vaso_principais             1.000000  0.151832 -0.391724  \n",
       "thal                           0.151832  1.000000 -0.344029  \n",
       "target                        -0.391724 -0.344029  1.000000  "
      ]
     },
     "execution_count": 12,
     "metadata": {},
     "output_type": "execute_result"
    }
   ],
   "source": [
    "dado.corr()"
   ]
  },
  {
   "cell_type": "code",
   "execution_count": 13,
   "metadata": {},
   "outputs": [
    {
     "data": {
      "text/plain": [
       "<matplotlib.axes._subplots.AxesSubplot at 0x1c62c054b08>"
      ]
     },
     "execution_count": 13,
     "metadata": {},
     "output_type": "execute_result"
    },
    {
     "data": {
      "image/png": "[encoded data removed]",
      "text/plain": [
       "<Figure size 432x288 with 1 Axes>"
      ]
     },
     "metadata": {
      "needs_background": "light"
     },
     "output_type": "display_data"
    }
   ],
   "source": [
    "importance = model.coef_[0]\n",
    "#importance is a list so you can plot it. \n",
    "feat_importances = pd.Series(importance)\n",
    "feat_importances.nlargest(20).plot(kind='barh',title = 'Feature Importance')"
   ]
  },
  {
   "cell_type": "code",
   "execution_count": 14,
   "metadata": {},
   "outputs": [
    {
     "data": {
      "text/html": [
       "<div>\n",
       "<style scoped>\n",
       "    .dataframe tbody tr th:only-of-type {\n",
       "        vertical-align: middle;\n",
       "    }\n",
       "\n",
       "    .dataframe tbody tr th {\n",
       "        vertical-align: top;\n",
       "    }\n",
       "\n",
       "    .dataframe thead th {\n",
       "        text-align: right;\n",
       "    }\n",
       "</style>\n",
       "<table border=\"1\" class=\"dataframe\">\n",
       "  <thead>\n",
       "    <tr style=\"text-align: right;\">\n",
       "      <th></th>\n",
       "      <th>idade</th>\n",
       "      <th>sexo</th>\n",
       "      <th>tp_dor_tox</th>\n",
       "      <th>pres_arterial</th>\n",
       "      <th>colestoral_sérico</th>\n",
       "      <th>glicemia_jejum</th>\n",
       "      <th>result_eletrocardio</th>\n",
       "      <th>frequ_card_max</th>\n",
       "      <th>angina_induzida</th>\n",
       "      <th>pico_antigo</th>\n",
       "      <th>incli_seg_ST</th>\n",
       "      <th>nu_vaso_principais</th>\n",
       "      <th>thal</th>\n",
       "      <th>target</th>\n",
       "    </tr>\n",
       "  </thead>\n",
       "  <tbody>\n",
       "    <tr>\n",
       "      <td>0</td>\n",
       "      <td>63</td>\n",
       "      <td>1</td>\n",
       "      <td>3</td>\n",
       "      <td>145</td>\n",
       "      <td>233</td>\n",
       "      <td>1</td>\n",
       "      <td>0</td>\n",
       "      <td>150</td>\n",
       "      <td>0</td>\n",
       "      <td>2.3</td>\n",
       "      <td>0</td>\n",
       "      <td>0</td>\n",
       "      <td>1</td>\n",
       "      <td>1</td>\n",
       "    </tr>\n",
       "    <tr>\n",
       "      <td>1</td>\n",
       "      <td>37</td>\n",
       "      <td>1</td>\n",
       "      <td>2</td>\n",
       "      <td>130</td>\n",
       "      <td>250</td>\n",
       "      <td>0</td>\n",
       "      <td>1</td>\n",
       "      <td>187</td>\n",
       "      <td>0</td>\n",
       "      <td>3.5</td>\n",
       "      <td>0</td>\n",
       "      <td>0</td>\n",
       "      <td>2</td>\n",
       "      <td>1</td>\n",
       "    </tr>\n",
       "    <tr>\n",
       "      <td>2</td>\n",
       "      <td>41</td>\n",
       "      <td>0</td>\n",
       "      <td>1</td>\n",
       "      <td>130</td>\n",
       "      <td>204</td>\n",
       "      <td>0</td>\n",
       "      <td>0</td>\n",
       "      <td>172</td>\n",
       "      <td>0</td>\n",
       "      <td>1.4</td>\n",
       "      <td>2</td>\n",
       "      <td>0</td>\n",
       "      <td>2</td>\n",
       "      <td>1</td>\n",
       "    </tr>\n",
       "    <tr>\n",
       "      <td>3</td>\n",
       "      <td>56</td>\n",
       "      <td>1</td>\n",
       "      <td>1</td>\n",
       "      <td>120</td>\n",
       "      <td>236</td>\n",
       "      <td>0</td>\n",
       "      <td>1</td>\n",
       "      <td>178</td>\n",
       "      <td>0</td>\n",
       "      <td>0.8</td>\n",
       "      <td>2</td>\n",
       "      <td>0</td>\n",
       "      <td>2</td>\n",
       "      <td>1</td>\n",
       "    </tr>\n",
       "    <tr>\n",
       "      <td>4</td>\n",
       "      <td>57</td>\n",
       "      <td>0</td>\n",
       "      <td>0</td>\n",
       "      <td>120</td>\n",
       "      <td>354</td>\n",
       "      <td>0</td>\n",
       "      <td>1</td>\n",
       "      <td>163</td>\n",
       "      <td>1</td>\n",
       "      <td>0.6</td>\n",
       "      <td>2</td>\n",
       "      <td>0</td>\n",
       "      <td>2</td>\n",
       "      <td>1</td>\n",
       "    </tr>\n",
       "    <tr>\n",
       "      <td>...</td>\n",
       "      <td>...</td>\n",
       "      <td>...</td>\n",
       "      <td>...</td>\n",
       "      <td>...</td>\n",
       "      <td>...</td>\n",
       "      <td>...</td>\n",
       "      <td>...</td>\n",
       "      <td>...</td>\n",
       "      <td>...</td>\n",
       "      <td>...</td>\n",
       "      <td>...</td>\n",
       "      <td>...</td>\n",
       "      <td>...</td>\n",
       "      <td>...</td>\n",
       "    </tr>\n",
       "    <tr>\n",
       "      <td>298</td>\n",
       "      <td>57</td>\n",
       "      <td>0</td>\n",
       "      <td>0</td>\n",
       "      <td>140</td>\n",
       "      <td>241</td>\n",
       "      <td>0</td>\n",
       "      <td>1</td>\n",
       "      <td>123</td>\n",
       "      <td>1</td>\n",
       "      <td>0.2</td>\n",
       "      <td>1</td>\n",
       "      <td>0</td>\n",
       "      <td>3</td>\n",
       "      <td>0</td>\n",
       "    </tr>\n",
       "    <tr>\n",
       "      <td>299</td>\n",
       "      <td>45</td>\n",
       "      <td>1</td>\n",
       "      <td>3</td>\n",
       "      <td>110</td>\n",
       "      <td>264</td>\n",
       "      <td>0</td>\n",
       "      <td>1</td>\n",
       "      <td>132</td>\n",
       "      <td>0</td>\n",
       "      <td>1.2</td>\n",
       "      <td>1</td>\n",
       "      <td>0</td>\n",
       "      <td>3</td>\n",
       "      <td>0</td>\n",
       "    </tr>\n",
       "    <tr>\n",
       "      <td>300</td>\n",
       "      <td>68</td>\n",
       "      <td>1</td>\n",
       "      <td>0</td>\n",
       "      <td>144</td>\n",
       "      <td>193</td>\n",
       "      <td>1</td>\n",
       "      <td>1</td>\n",
       "      <td>141</td>\n",
       "      <td>0</td>\n",
       "      <td>3.4</td>\n",
       "      <td>1</td>\n",
       "      <td>2</td>\n",
       "      <td>3</td>\n",
       "      <td>0</td>\n",
       "    </tr>\n",
       "    <tr>\n",
       "      <td>301</td>\n",
       "      <td>57</td>\n",
       "      <td>1</td>\n",
       "      <td>0</td>\n",
       "      <td>130</td>\n",
       "      <td>131</td>\n",
       "      <td>0</td>\n",
       "      <td>1</td>\n",
       "      <td>115</td>\n",
       "      <td>1</td>\n",
       "      <td>1.2</td>\n",
       "      <td>1</td>\n",
       "      <td>1</td>\n",
       "      <td>3</td>\n",
       "      <td>0</td>\n",
       "    </tr>\n",
       "    <tr>\n",
       "      <td>302</td>\n",
       "      <td>57</td>\n",
       "      <td>0</td>\n",
       "      <td>1</td>\n",
       "      <td>130</td>\n",
       "      <td>236</td>\n",
       "      <td>0</td>\n",
       "      <td>0</td>\n",
       "      <td>174</td>\n",
       "      <td>0</td>\n",
       "      <td>0.0</td>\n",
       "      <td>1</td>\n",
       "      <td>1</td>\n",
       "      <td>2</td>\n",
       "      <td>0</td>\n",
       "    </tr>\n",
       "  </tbody>\n",
       "</table>\n",
       "<p>303 rows × 14 columns</p>\n",
       "</div>"
      ],
      "text/plain": [
       "     idade sexo  tp_dor_tox  pres_arterial  colestoral_sérico  glicemia_jejum  \\\n",
       "0       63    1           3            145                233               1   \n",
       "1       37    1           2            130                250               0   \n",
       "2       41    0           1            130                204               0   \n",
       "3       56    1           1            120                236               0   \n",
       "4       57    0           0            120                354               0   \n",
       "..     ...  ...         ...            ...                ...             ...   \n",
       "298     57    0           0            140                241               0   \n",
       "299     45    1           3            110                264               0   \n",
       "300     68    1           0            144                193               1   \n",
       "301     57    1           0            130                131               0   \n",
       "302     57    0           1            130                236               0   \n",
       "\n",
       "     result_eletrocardio  frequ_card_max  angina_induzida  pico_antigo  \\\n",
       "0                      0             150                0          2.3   \n",
       "1                      1             187                0          3.5   \n",
       "2                      0             172                0          1.4   \n",
       "3                      1             178                0          0.8   \n",
       "4                      1             163                1          0.6   \n",
       "..                   ...             ...              ...          ...   \n",
       "298                    1             123                1          0.2   \n",
       "299                    1             132                0          1.2   \n",
       "300                    1             141                0          3.4   \n",
       "301                    1             115                1          1.2   \n",
       "302                    0             174                0          0.0   \n",
       "\n",
       "     incli_seg_ST  nu_vaso_principais  thal  target  \n",
       "0               0                   0     1       1  \n",
       "1               0                   0     2       1  \n",
       "2               2                   0     2       1  \n",
       "3               2                   0     2       1  \n",
       "4               2                   0     2       1  \n",
       "..            ...                 ...   ...     ...  \n",
       "298             1                   0     3       0  \n",
       "299             1                   0     3       0  \n",
       "300             1                   2     3       0  \n",
       "301             1                   1     3       0  \n",
       "302             1                   1     2       0  \n",
       "\n",
       "[303 rows x 14 columns]"
      ]
     },
     "execution_count": 14,
     "metadata": {},
     "output_type": "execute_result"
    }
   ],
   "source": [
    "dado"
   ]
  },
  {
   "cell_type": "markdown",
   "metadata": {},
   "source": [
    "* Um coeficiente de regressão descreve o tamanho e a direção da relação entre um preditor e a variável de resposta. Coeficientes são os números pelos quais os valores do termo são multiplicados em uma equação de regressão. "
   ]
  },
  {
   "cell_type": "code",
   "execution_count": 15,
   "metadata": {},
   "outputs": [
    {
     "name": "stdout",
     "output_type": "stream",
     "text": [
      "     tp_dor_tox  result_eletrocardio  incli_seg_ST\n",
      "0             3                    0             0\n",
      "1             2                    1             0\n",
      "2             1                    0             2\n",
      "3             1                    1             2\n",
      "4             0                    1             2\n",
      "..          ...                  ...           ...\n",
      "298           0                    1             1\n",
      "299           3                    1             1\n",
      "300           0                    1             1\n",
      "301           0                    1             1\n",
      "302           1                    0             1\n",
      "\n",
      "[303 rows x 3 columns]\n"
     ]
    }
   ],
   "source": [
    "model = LogisticRegression(penalty='none', solver='newton-cg')\n",
    "baseline_df = dado[['target', 'tp_dor_tox','result_eletrocardio','incli_seg_ST']].dropna()\n",
    "Y = baseline_df.target\n",
    "X = pd.get_dummies(baseline_df[['tp_dor_tox','result_eletrocardio','incli_seg_ST']], drop_first=True)\n",
    "print(X)"
   ]
  },
  {
   "cell_type": "code",
   "execution_count": 16,
   "metadata": {},
   "outputs": [
    {
     "data": {
      "text/plain": [
       "LogisticRegression(C=1.0, class_weight=None, dual=False, fit_intercept=True,\n",
       "                   intercept_scaling=1, l1_ratio=None, max_iter=100,\n",
       "                   multi_class='warn', n_jobs=None, penalty='none',\n",
       "                   random_state=None, solver='newton-cg', tol=0.0001, verbose=0,\n",
       "                   warm_start=False)"
      ]
     },
     "execution_count": 16,
     "metadata": {},
     "output_type": "execute_result"
    }
   ],
   "source": [
    "model.fit(X, Y)"
   ]
  },
  {
   "cell_type": "code",
   "execution_count": 17,
   "metadata": {},
   "outputs": [
    {
     "name": "stdout",
     "output_type": "stream",
     "text": [
      "[[0.97376767 0.46618504 1.22177277]]\n"
     ]
    }
   ],
   "source": [
    "print(model.coef_) # Temos o mesmo modelo!"
   ]
  },
  {
   "cell_type": "code",
   "execution_count": 18,
   "metadata": {},
   "outputs": [],
   "source": [
    "# Predizendo as probabilidades\n",
    "yhat = model.predict_proba(X)"
   ]
  },
  {
   "cell_type": "code",
   "execution_count": 19,
   "metadata": {},
   "outputs": [],
   "source": [
    "yhat = yhat[:, 1] # manter somente para a classe positiva"
   ]
  },
  {
   "cell_type": "code",
   "execution_count": 20,
   "metadata": {},
   "outputs": [
    {
     "data": {
      "text/plain": [
       "array([[ 98,  40],\n",
       "       [ 35, 130]], dtype=int64)"
      ]
     },
     "execution_count": 20,
     "metadata": {},
     "output_type": "execute_result"
    }
   ],
   "source": [
    "confusion_matrix(Y, model.predict(X)) # usando a função do sklearn"
   ]
  },
  {
   "cell_type": "code",
   "execution_count": 21,
   "metadata": {},
   "outputs": [
    {
     "data": {
      "text/html": [
       "<div>\n",
       "<style scoped>\n",
       "    .dataframe tbody tr th:only-of-type {\n",
       "        vertical-align: middle;\n",
       "    }\n",
       "\n",
       "    .dataframe tbody tr th {\n",
       "        vertical-align: top;\n",
       "    }\n",
       "\n",
       "    .dataframe thead th {\n",
       "        text-align: right;\n",
       "    }\n",
       "</style>\n",
       "<table border=\"1\" class=\"dataframe\">\n",
       "  <thead>\n",
       "    <tr style=\"text-align: right;\">\n",
       "      <th>col_0</th>\n",
       "      <th>0</th>\n",
       "      <th>1</th>\n",
       "    </tr>\n",
       "    <tr>\n",
       "      <th>target</th>\n",
       "      <th></th>\n",
       "      <th></th>\n",
       "    </tr>\n",
       "  </thead>\n",
       "  <tbody>\n",
       "    <tr>\n",
       "      <td>0</td>\n",
       "      <td>98</td>\n",
       "      <td>40</td>\n",
       "    </tr>\n",
       "    <tr>\n",
       "      <td>1</td>\n",
       "      <td>35</td>\n",
       "      <td>130</td>\n",
       "    </tr>\n",
       "  </tbody>\n",
       "</table>\n",
       "</div>"
      ],
      "text/plain": [
       "col_0    0    1\n",
       "target         \n",
       "0       98   40\n",
       "1       35  130"
      ]
     },
     "execution_count": 21,
     "metadata": {},
     "output_type": "execute_result"
    }
   ],
   "source": [
    "pd.crosstab(Y, model.predict(X))  # fazendo \"na mão\""
   ]
  },
  {
   "cell_type": "code",
   "execution_count": 22,
   "metadata": {},
   "outputs": [
    {
     "name": "stdout",
     "output_type": "stream",
     "text": [
      "O modelo obteve 0.7525 de acurácia.\n"
     ]
    }
   ],
   "source": [
    "acuracia = accuracy_score(Y, model.predict(X))\n",
    "print('O modelo obteve %0.4f de acurácia.' % acuracia)"
   ]
  },
  {
   "cell_type": "markdown",
   "metadata": {},
   "source": [
    "testando com variaveis de correlação(importância) negativa"
   ]
  },
  {
   "cell_type": "code",
   "execution_count": 23,
   "metadata": {},
   "outputs": [
    {
     "name": "stdout",
     "output_type": "stream",
     "text": [
      "     angina_induzida  thal  nu_vaso_principais  pico_antigo  sexo_1\n",
      "0                  0     1                   0          2.3       1\n",
      "1                  0     2                   0          3.5       1\n",
      "2                  0     2                   0          1.4       0\n",
      "3                  0     2                   0          0.8       1\n",
      "4                  1     2                   0          0.6       0\n",
      "..               ...   ...                 ...          ...     ...\n",
      "298                1     3                   0          0.2       0\n",
      "299                0     3                   0          1.2       1\n",
      "300                0     3                   2          3.4       1\n",
      "301                1     3                   1          1.2       1\n",
      "302                0     2                   1          0.0       0\n",
      "\n",
      "[303 rows x 5 columns]\n"
     ]
    }
   ],
   "source": [
    "model = LogisticRegression(penalty='none', solver='newton-cg')\n",
    "baseline_df = dado[['target', 'sexo','angina_induzida','thal','nu_vaso_principais','pico_antigo']].dropna()\n",
    "Y = baseline_df.target\n",
    "X = pd.get_dummies(baseline_df[['sexo','angina_induzida','thal','nu_vaso_principais','pico_antigo']], drop_first=True)\n",
    "print(X)"
   ]
  },
  {
   "cell_type": "code",
   "execution_count": null,
   "metadata": {},
   "outputs": [],
   "source": []
  },
  {
   "cell_type": "code",
   "execution_count": 24,
   "metadata": {},
   "outputs": [
    {
     "data": {
      "text/plain": [
       "LogisticRegression(C=1.0, class_weight=None, dual=False, fit_intercept=True,\n",
       "                   intercept_scaling=1, l1_ratio=None, max_iter=100,\n",
       "                   multi_class='warn', n_jobs=None, penalty='none',\n",
       "                   random_state=None, solver='newton-cg', tol=0.0001, verbose=0,\n",
       "                   warm_start=False)"
      ]
     },
     "execution_count": 24,
     "metadata": {},
     "output_type": "execute_result"
    }
   ],
   "source": [
    "model.fit(X, Y)"
   ]
  },
  {
   "cell_type": "code",
   "execution_count": 25,
   "metadata": {},
   "outputs": [],
   "source": [
    "# Predizendo as probabilidades\n",
    "yhat = model.predict_proba(X)"
   ]
  },
  {
   "cell_type": "code",
   "execution_count": 26,
   "metadata": {},
   "outputs": [],
   "source": [
    "yhat = yhat[:, 1] # manter somente para a classe positiva"
   ]
  },
  {
   "cell_type": "code",
   "execution_count": 27,
   "metadata": {},
   "outputs": [
    {
     "data": {
      "text/plain": [
       "array([[102,  36],\n",
       "       [ 26, 139]], dtype=int64)"
      ]
     },
     "execution_count": 27,
     "metadata": {},
     "output_type": "execute_result"
    }
   ],
   "source": [
    "confusion_matrix(Y, model.predict(X)) # usando a função do sklearn"
   ]
  },
  {
   "cell_type": "code",
   "execution_count": 28,
   "metadata": {},
   "outputs": [
    {
     "name": "stdout",
     "output_type": "stream",
     "text": [
      "O modelo obteve 0.7954 de acurácia.\n"
     ]
    }
   ],
   "source": [
    "acuracia = accuracy_score(Y, model.predict(X))\n",
    "print('O modelo obteve %0.4f de acurácia.' % acuracia)\n"
   ]
  },
  {
   "cell_type": "markdown",
   "metadata": {},
   "source": [
    "testando com as variaveis de maior importancia seja negativas ou positivas"
   ]
  },
  {
   "cell_type": "code",
   "execution_count": 29,
   "metadata": {},
   "outputs": [
    {
     "name": "stdout",
     "output_type": "stream",
     "text": [
      "     tp_dor_tox  result_eletrocardio  incli_seg_ST  angina_induzida  thal  \\\n",
      "0             3                    0             0                0     1   \n",
      "1             2                    1             0                0     2   \n",
      "2             1                    0             2                0     2   \n",
      "3             1                    1             2                0     2   \n",
      "4             0                    1             2                1     2   \n",
      "..          ...                  ...           ...              ...   ...   \n",
      "298           0                    1             1                1     3   \n",
      "299           3                    1             1                0     3   \n",
      "300           0                    1             1                0     3   \n",
      "301           0                    1             1                1     3   \n",
      "302           1                    0             1                0     2   \n",
      "\n",
      "     nu_vaso_principais  pico_antigo  sexo_1  \n",
      "0                     0          2.3       1  \n",
      "1                     0          3.5       1  \n",
      "2                     0          1.4       0  \n",
      "3                     0          0.8       1  \n",
      "4                     0          0.6       0  \n",
      "..                  ...          ...     ...  \n",
      "298                   0          0.2       0  \n",
      "299                   0          1.2       1  \n",
      "300                   2          3.4       1  \n",
      "301                   1          1.2       1  \n",
      "302                   1          0.0       0  \n",
      "\n",
      "[303 rows x 8 columns]\n"
     ]
    }
   ],
   "source": [
    "model = LogisticRegression(penalty='elasticnet', solver='saga',C=1.0, class_weight=None, dual=False, fit_intercept=True,\n",
    "                   intercept_scaling=1, l1_ratio=0, max_iter=100,\n",
    "                   multi_class='warn', n_jobs=None,\n",
    "                   random_state=None,tol=0.0001, verbose=0,\n",
    "                   warm_start=False)\n",
    "baseline_df = dado[['target', 'tp_dor_tox','result_eletrocardio','incli_seg_ST','sexo','angina_induzida','thal','nu_vaso_principais','pico_antigo']].dropna()\n",
    "Y = baseline_df.target\n",
    "X = pd.get_dummies(baseline_df[['tp_dor_tox','result_eletrocardio','incli_seg_ST','sexo','angina_induzida','thal','nu_vaso_principais','pico_antigo']], drop_first=True)\n",
    "print(X)"
   ]
  },
  {
   "cell_type": "code",
   "execution_count": 30,
   "metadata": {},
   "outputs": [
    {
     "name": "stderr",
     "output_type": "stream",
     "text": [
      "C:\\Users\\MiriamCristinaSantos\\Anaconda3\\lib\\site-packages\\sklearn\\linear_model\\sag.py:337: ConvergenceWarning: The max_iter was reached which means the coef_ did not converge\n",
      "  \"the coef_ did not converge\", ConvergenceWarning)\n"
     ]
    },
    {
     "data": {
      "text/plain": [
       "LogisticRegression(C=1.0, class_weight=None, dual=False, fit_intercept=True,\n",
       "                   intercept_scaling=1, l1_ratio=0, max_iter=100,\n",
       "                   multi_class='warn', n_jobs=None, penalty='elasticnet',\n",
       "                   random_state=None, solver='saga', tol=0.0001, verbose=0,\n",
       "                   warm_start=False)"
      ]
     },
     "execution_count": 30,
     "metadata": {},
     "output_type": "execute_result"
    }
   ],
   "source": [
    "model.fit(X, Y)"
   ]
  },
  {
   "cell_type": "code",
   "execution_count": 31,
   "metadata": {},
   "outputs": [
    {
     "name": "stdout",
     "output_type": "stream",
     "text": [
      "O modelo obteve 0.8416 de acurácia.\n"
     ]
    }
   ],
   "source": [
    "acuracia = accuracy_score(Y, model.predict(X))\n",
    "print('O modelo obteve %0.4f de acurácia.' % acuracia)"
   ]
  },
  {
   "cell_type": "markdown",
   "metadata": {},
   "source": [
    "A acurácia não é uma medida muito boa para trabalhar com modelos de classificação pois ela pode nos induzir a achar que um modelo que prediz corretamente todos os zeros mas nenhum um é um modelo muito bom. Vejamos outras alternativas de métricas mais interessantes do que a acurácia."
   ]
  },
  {
   "cell_type": "code",
   "execution_count": 32,
   "metadata": {},
   "outputs": [
    {
     "name": "stdout",
     "output_type": "stream",
     "text": [
      "              precision    recall  f1-score   support\n",
      "\n",
      "           0       0.86      0.78      0.82       138\n",
      "           1       0.83      0.90      0.86       165\n",
      "\n",
      "    accuracy                           0.84       303\n",
      "   macro avg       0.84      0.84      0.84       303\n",
      "weighted avg       0.84      0.84      0.84       303\n",
      "\n"
     ]
    }
   ],
   "source": [
    "print(classification_report(Y, model.predict(X)))\n"
   ]
  },
  {
   "cell_type": "markdown",
   "metadata": {},
   "source": [
    "O classification report do SciKit-Learn nos provê as três métricas de avaliação apresentadas na figura acima.\n",
    "\n",
    "Precision é a capacidade do modelo de não prever uma instância negativa como positiva (não cometer erro do tipo 1). Para todas as instância classificadas como positivas, qual é o percentual de acerto.\n",
    "\n",
    "Recall é a capacidade do modelo de encontrar todas as instâncias positivas. Para todas as instâncias que são de fato positivas, qual é o percentual de acerto.\n",
    "\n",
    "A métrica F1 conjuga as duas anteriores como uma média harmônica entre ambas. Ela deve sempre ser priorizada para comparar modelos de classificação em relação à acurácia.\n",
    "\n",
    "Uma excelente alternativa é fazer a curva ROC e calcular o AUC (área debaixo da curva).\n",
    "\n",
    "A curva ROC (Receiver Operating Characteristic Curve) leva em conta a TPR (True Positive Rate ou Recall ou Sensitity) e a FPR (False Positive Rate ou Specificity).\n",
    "\n",
    "A curva ROC traça esses dois parâmetros. o AUC (Area Under the Curve) é um valor que sintetiza a informação da curva ROC. Ela varia de 0.5 a 1. Em suma, essa métrica nos diz o quanto o modelo é capaz de distinguir as duas classes. Vejamos o AUC e a curva RUC para o modelo que estimamos."
   ]
  },
  {
   "cell_type": "code",
   "execution_count": 33,
   "metadata": {},
   "outputs": [
    {
     "name": "stdout",
     "output_type": "stream",
     "text": [
      "AUC: 0.88\n"
     ]
    }
   ],
   "source": [
    "print('AUC: %0.2f' % roc_auc_score(Y, yhat))\n"
   ]
  },
  {
   "cell_type": "code",
   "execution_count": 34,
   "metadata": {},
   "outputs": [],
   "source": [
    "def plot_roc_curve(y_true, y_score, figsize=(10,6)):\n",
    "    fpr, tpr, _ = roc_curve(y_true, y_score)\n",
    "    plt.figure(figsize=figsize)\n",
    "    auc_value = roc_auc_score(y_true, y_score)\n",
    "    plt.plot(fpr, tpr, color='orange', label='ROC curve (area = %0.2f)' % auc_value)\n",
    "    plt.plot([0, 1], [0, 1], color='darkblue', linestyle='--')\n",
    "    plt.xlabel('False Positive Rate')\n",
    "    plt.ylabel('True Positive Rate')\n",
    "    plt.title('Receiver Operating Characteristic (ROC) Curve')\n",
    "    plt.legend()\n",
    "    plt.show()\n"
   ]
  },
  {
   "cell_type": "code",
   "execution_count": 35,
   "metadata": {},
   "outputs": [
    {
     "data": {
      "image/png": "[encoded data removed]",
      "text/plain": [
       "<Figure size 720x432 with 1 Axes>"
      ]
     },
     "metadata": {
      "needs_background": "light"
     },
     "output_type": "display_data"
    }
   ],
   "source": [
    "plot_roc_curve(Y, yhat)\n"
   ]
  },
  {
   "cell_type": "markdown",
   "metadata": {},
   "source": [
    "Podemos considerar uma área debaixo da curva de mais de 0.7 como aceitável. Mais de 0.8 parece bom. Mais de .9 está excelente. Há também outras métricas que podemos explorar."
   ]
  },
  {
   "cell_type": "markdown",
   "metadata": {},
   "source": [
    "# Predições"
   ]
  },
  {
   "cell_type": "code",
   "execution_count": 36,
   "metadata": {},
   "outputs": [
    {
     "data": {
      "text/html": [
       "<div>\n",
       "<style scoped>\n",
       "    .dataframe tbody tr th:only-of-type {\n",
       "        vertical-align: middle;\n",
       "    }\n",
       "\n",
       "    .dataframe tbody tr th {\n",
       "        vertical-align: top;\n",
       "    }\n",
       "\n",
       "    .dataframe thead th {\n",
       "        text-align: right;\n",
       "    }\n",
       "</style>\n",
       "<table border=\"1\" class=\"dataframe\">\n",
       "  <thead>\n",
       "    <tr style=\"text-align: right;\">\n",
       "      <th></th>\n",
       "      <th>idade</th>\n",
       "      <th>sexo</th>\n",
       "      <th>tp_dor_tox</th>\n",
       "      <th>pres_arterial</th>\n",
       "      <th>colestoral_sérico</th>\n",
       "      <th>glicemia_jejum</th>\n",
       "      <th>result_eletrocardio</th>\n",
       "      <th>frequ_card_max</th>\n",
       "      <th>angina_induzida</th>\n",
       "      <th>pico_antigo</th>\n",
       "      <th>incli_seg_ST</th>\n",
       "      <th>nu_vaso_principais</th>\n",
       "      <th>thal</th>\n",
       "      <th>target</th>\n",
       "    </tr>\n",
       "  </thead>\n",
       "  <tbody>\n",
       "    <tr>\n",
       "      <td>78</td>\n",
       "      <td>52</td>\n",
       "      <td>1</td>\n",
       "      <td>1</td>\n",
       "      <td>128</td>\n",
       "      <td>205</td>\n",
       "      <td>1</td>\n",
       "      <td>1</td>\n",
       "      <td>184</td>\n",
       "      <td>0</td>\n",
       "      <td>0.0</td>\n",
       "      <td>2</td>\n",
       "      <td>0</td>\n",
       "      <td>2</td>\n",
       "      <td>1</td>\n",
       "    </tr>\n",
       "    <tr>\n",
       "      <td>152</td>\n",
       "      <td>64</td>\n",
       "      <td>1</td>\n",
       "      <td>3</td>\n",
       "      <td>170</td>\n",
       "      <td>227</td>\n",
       "      <td>0</td>\n",
       "      <td>0</td>\n",
       "      <td>155</td>\n",
       "      <td>0</td>\n",
       "      <td>0.6</td>\n",
       "      <td>1</td>\n",
       "      <td>0</td>\n",
       "      <td>3</td>\n",
       "      <td>1</td>\n",
       "    </tr>\n",
       "    <tr>\n",
       "      <td>198</td>\n",
       "      <td>62</td>\n",
       "      <td>1</td>\n",
       "      <td>0</td>\n",
       "      <td>120</td>\n",
       "      <td>267</td>\n",
       "      <td>0</td>\n",
       "      <td>1</td>\n",
       "      <td>99</td>\n",
       "      <td>1</td>\n",
       "      <td>1.8</td>\n",
       "      <td>1</td>\n",
       "      <td>2</td>\n",
       "      <td>3</td>\n",
       "      <td>0</td>\n",
       "    </tr>\n",
       "    <tr>\n",
       "      <td>274</td>\n",
       "      <td>47</td>\n",
       "      <td>1</td>\n",
       "      <td>0</td>\n",
       "      <td>110</td>\n",
       "      <td>275</td>\n",
       "      <td>0</td>\n",
       "      <td>0</td>\n",
       "      <td>118</td>\n",
       "      <td>1</td>\n",
       "      <td>1.0</td>\n",
       "      <td>1</td>\n",
       "      <td>1</td>\n",
       "      <td>2</td>\n",
       "      <td>0</td>\n",
       "    </tr>\n",
       "    <tr>\n",
       "      <td>231</td>\n",
       "      <td>57</td>\n",
       "      <td>1</td>\n",
       "      <td>0</td>\n",
       "      <td>165</td>\n",
       "      <td>289</td>\n",
       "      <td>1</td>\n",
       "      <td>0</td>\n",
       "      <td>124</td>\n",
       "      <td>0</td>\n",
       "      <td>1.0</td>\n",
       "      <td>1</td>\n",
       "      <td>3</td>\n",
       "      <td>3</td>\n",
       "      <td>0</td>\n",
       "    </tr>\n",
       "  </tbody>\n",
       "</table>\n",
       "</div>"
      ],
      "text/plain": [
       "     idade sexo  tp_dor_tox  pres_arterial  colestoral_sérico  glicemia_jejum  \\\n",
       "78      52    1           1            128                205               1   \n",
       "152     64    1           3            170                227               0   \n",
       "198     62    1           0            120                267               0   \n",
       "274     47    1           0            110                275               0   \n",
       "231     57    1           0            165                289               1   \n",
       "\n",
       "     result_eletrocardio  frequ_card_max  angina_induzida  pico_antigo  \\\n",
       "78                     1             184                0          0.0   \n",
       "152                    0             155                0          0.6   \n",
       "198                    1              99                1          1.8   \n",
       "274                    0             118                1          1.0   \n",
       "231                    0             124                0          1.0   \n",
       "\n",
       "     incli_seg_ST  nu_vaso_principais  thal  target  \n",
       "78              2                   0     2       1  \n",
       "152             1                   0     3       1  \n",
       "198             1                   2     3       0  \n",
       "274             1                   1     2       0  \n",
       "231             1                   3     3       0  "
      ]
     },
     "execution_count": 36,
     "metadata": {},
     "output_type": "execute_result"
    }
   ],
   "source": [
    "dado.sample(5)"
   ]
  },
  {
   "cell_type": "code",
   "execution_count": 37,
   "metadata": {},
   "outputs": [
    {
     "name": "stdout",
     "output_type": "stream",
     "text": [
      "Eu teria 11.03% de ter um ataque\n"
     ]
    }
   ],
   "source": [
    "eu = pd.DataFrame({'tp_dor_tox':2,'result_eletrocardio':0,'incli_seg_ST':1,'sexo':1,'angina_induzida':1,'thal':2,'nu_vaso_principais':0,'pico_antigo':3.0}, index=[0])\n",
    "minha_prob = model.predict_proba(eu)\n",
    "print('Eu teria {}% de ter um ataque'\\\n",
    "      .format(round(minha_prob[:,1][0]*100, 2)))\n"
   ]
  },
  {
   "cell_type": "markdown",
   "metadata": {},
   "source": [
    "tentar prever quem terá um ataque "
   ]
  },
  {
   "cell_type": "code",
   "execution_count": 38,
   "metadata": {},
   "outputs": [],
   "source": [
    "X_train, X_test, y_train, y_test = train_test_split(X, Y, random_state=42)# Treinando modelo"
   ]
  },
  {
   "cell_type": "code",
   "execution_count": 39,
   "metadata": {},
   "outputs": [
    {
     "name": "stderr",
     "output_type": "stream",
     "text": [
      "C:\\Users\\MiriamCristinaSantos\\Anaconda3\\lib\\site-packages\\sklearn\\linear_model\\sag.py:337: ConvergenceWarning: The max_iter was reached which means the coef_ did not converge\n",
      "  \"the coef_ did not converge\", ConvergenceWarning)\n"
     ]
    },
    {
     "data": {
      "text/plain": [
       "LogisticRegression(C=1.0, class_weight=None, dual=False, fit_intercept=True,\n",
       "                   intercept_scaling=1, l1_ratio=0, max_iter=100,\n",
       "                   multi_class='warn', n_jobs=None, penalty='elasticnet',\n",
       "                   random_state=None, solver='saga', tol=0.0001, verbose=0,\n",
       "                   warm_start=False)"
      ]
     },
     "execution_count": 39,
     "metadata": {},
     "output_type": "execute_result"
    }
   ],
   "source": [
    "model.fit(X_train, y_train)"
   ]
  },
  {
   "cell_type": "code",
   "execution_count": 40,
   "metadata": {},
   "outputs": [
    {
     "data": {
      "text/html": [
       "<div>\n",
       "<style scoped>\n",
       "    .dataframe tbody tr th:only-of-type {\n",
       "        vertical-align: middle;\n",
       "    }\n",
       "\n",
       "    .dataframe tbody tr th {\n",
       "        vertical-align: top;\n",
       "    }\n",
       "\n",
       "    .dataframe thead th {\n",
       "        text-align: right;\n",
       "    }\n",
       "</style>\n",
       "<table border=\"1\" class=\"dataframe\">\n",
       "  <thead>\n",
       "    <tr style=\"text-align: right;\">\n",
       "      <th></th>\n",
       "      <th>tp_dor_tox</th>\n",
       "      <th>result_eletrocardio</th>\n",
       "      <th>incli_seg_ST</th>\n",
       "      <th>angina_induzida</th>\n",
       "      <th>thal</th>\n",
       "      <th>nu_vaso_principais</th>\n",
       "      <th>pico_antigo</th>\n",
       "      <th>sexo_1</th>\n",
       "    </tr>\n",
       "  </thead>\n",
       "  <tbody>\n",
       "    <tr>\n",
       "      <td>5</td>\n",
       "      <td>0</td>\n",
       "      <td>1</td>\n",
       "      <td>1</td>\n",
       "      <td>0</td>\n",
       "      <td>1</td>\n",
       "      <td>0</td>\n",
       "      <td>0.4</td>\n",
       "      <td>1</td>\n",
       "    </tr>\n",
       "    <tr>\n",
       "      <td>101</td>\n",
       "      <td>3</td>\n",
       "      <td>0</td>\n",
       "      <td>0</td>\n",
       "      <td>0</td>\n",
       "      <td>3</td>\n",
       "      <td>0</td>\n",
       "      <td>4.2</td>\n",
       "      <td>1</td>\n",
       "    </tr>\n",
       "    <tr>\n",
       "      <td>45</td>\n",
       "      <td>1</td>\n",
       "      <td>1</td>\n",
       "      <td>2</td>\n",
       "      <td>0</td>\n",
       "      <td>2</td>\n",
       "      <td>0</td>\n",
       "      <td>0.2</td>\n",
       "      <td>1</td>\n",
       "    </tr>\n",
       "    <tr>\n",
       "      <td>175</td>\n",
       "      <td>0</td>\n",
       "      <td>0</td>\n",
       "      <td>1</td>\n",
       "      <td>1</td>\n",
       "      <td>3</td>\n",
       "      <td>0</td>\n",
       "      <td>2.0</td>\n",
       "      <td>1</td>\n",
       "    </tr>\n",
       "    <tr>\n",
       "      <td>118</td>\n",
       "      <td>1</td>\n",
       "      <td>1</td>\n",
       "      <td>2</td>\n",
       "      <td>0</td>\n",
       "      <td>2</td>\n",
       "      <td>0</td>\n",
       "      <td>0.0</td>\n",
       "      <td>0</td>\n",
       "    </tr>\n",
       "    <tr>\n",
       "      <td>46</td>\n",
       "      <td>2</td>\n",
       "      <td>0</td>\n",
       "      <td>2</td>\n",
       "      <td>0</td>\n",
       "      <td>2</td>\n",
       "      <td>0</td>\n",
       "      <td>0.0</td>\n",
       "      <td>1</td>\n",
       "    </tr>\n",
       "  </tbody>\n",
       "</table>\n",
       "</div>"
      ],
      "text/plain": [
       "     tp_dor_tox  result_eletrocardio  incli_seg_ST  angina_induzida  thal  \\\n",
       "5             0                    1             1                0     1   \n",
       "101           3                    0             0                0     3   \n",
       "45            1                    1             2                0     2   \n",
       "175           0                    0             1                1     3   \n",
       "118           1                    1             2                0     2   \n",
       "46            2                    0             2                0     2   \n",
       "\n",
       "     nu_vaso_principais  pico_antigo  sexo_1  \n",
       "5                     0          0.4       1  \n",
       "101                   0          4.2       1  \n",
       "45                    0          0.2       1  \n",
       "175                   0          2.0       1  \n",
       "118                   0          0.0       0  \n",
       "46                    0          0.0       1  "
      ]
     },
     "execution_count": 40,
     "metadata": {},
     "output_type": "execute_result"
    }
   ],
   "source": [
    "X_test[10:16]"
   ]
  },
  {
   "cell_type": "code",
   "execution_count": 41,
   "metadata": {},
   "outputs": [
    {
     "name": "stdout",
     "output_type": "stream",
     "text": [
      "Eu teria 21.91% de ter um ataque\n",
      "Eu teria 86.0% de ter um ataque\n",
      "Eu teria 81.13% de ter um ataque\n",
      "Eu teria 2.02% de ter um ataque\n",
      "Eu teria 94.43% de ter um ataque\n",
      "Eu teria 90.37% de ter um ataque\n",
      "Eu teria 52.64% de ter um ataque\n",
      "Eu teria 0.24% de ter um ataque\n",
      "Eu teria 0.74% de ter um ataque\n",
      "Eu teria 53.02% de ter um ataque\n",
      "Eu teria 83.02% de ter um ataque\n",
      "Eu teria 15.41% de ter um ataque\n",
      "Eu teria 91.33% de ter um ataque\n",
      "Eu teria 3.69% de ter um ataque\n",
      "Eu teria 97.11% de ter um ataque\n",
      "Eu teria 93.5% de ter um ataque\n",
      "Eu teria 95.33% de ter um ataque\n",
      "Eu teria 13.85% de ter um ataque\n",
      "Eu teria 1.61% de ter um ataque\n",
      "Eu teria 1.3% de ter um ataque\n",
      "Eu teria 82.2% de ter um ataque\n",
      "Eu teria 2.55% de ter um ataque\n",
      "Eu teria 55.86% de ter um ataque\n",
      "Eu teria 82.07% de ter um ataque\n",
      "Eu teria 93.47% de ter um ataque\n",
      "Eu teria 66.64% de ter um ataque\n",
      "Eu teria 97.2% de ter um ataque\n",
      "Eu teria 43.91% de ter um ataque\n",
      "Eu teria 1.86% de ter um ataque\n",
      "Eu teria 87.23% de ter um ataque\n",
      "Eu teria 10.71% de ter um ataque\n",
      "Eu teria 3.3% de ter um ataque\n",
      "Eu teria 1.61% de ter um ataque\n",
      "Eu teria 4.52% de ter um ataque\n",
      "Eu teria 89.01% de ter um ataque\n",
      "Eu teria 7.31% de ter um ataque\n",
      "Eu teria 57.18% de ter um ataque\n",
      "Eu teria 84.15% de ter um ataque\n",
      "Eu teria 76.7% de ter um ataque\n",
      "Eu teria 71.16% de ter um ataque\n",
      "Eu teria 49.01% de ter um ataque\n",
      "Eu teria 79.4% de ter um ataque\n",
      "Eu teria 85.63% de ter um ataque\n",
      "Eu teria 63.97% de ter um ataque\n",
      "Eu teria 82.83% de ter um ataque\n",
      "Eu teria 0.48% de ter um ataque\n",
      "Eu teria 71.8% de ter um ataque\n",
      "Eu teria 92.39% de ter um ataque\n",
      "Eu teria 6.45% de ter um ataque\n",
      "Eu teria 3.69% de ter um ataque\n",
      "Eu teria 5.33% de ter um ataque\n",
      "Eu teria 1.21% de ter um ataque\n",
      "Eu teria 94.01% de ter um ataque\n",
      "Eu teria 97.19% de ter um ataque\n",
      "Eu teria 15.06% de ter um ataque\n",
      "Eu teria 0.07% de ter um ataque\n",
      "Eu teria 5.15% de ter um ataque\n",
      "Eu teria 96.7% de ter um ataque\n",
      "Eu teria 1.62% de ter um ataque\n",
      "Eu teria 0.39% de ter um ataque\n",
      "Eu teria 7.31% de ter um ataque\n",
      "Eu teria 92.39% de ter um ataque\n",
      "Eu teria 14.95% de ter um ataque\n",
      "Eu teria 53.65% de ter um ataque\n",
      "Eu teria 75.73% de ter um ataque\n",
      "Eu teria 4.06% de ter um ataque\n",
      "Eu teria 74.4% de ter um ataque\n",
      "Eu teria 69.0% de ter um ataque\n",
      "Eu teria 77.02% de ter um ataque\n",
      "Eu teria 96.7% de ter um ataque\n",
      "Eu teria 93.47% de ter um ataque\n",
      "Eu teria 83.42% de ter um ataque\n",
      "Eu teria 45.53% de ter um ataque\n",
      "Eu teria 71.16% de ter um ataque\n",
      "Eu teria 12.19% de ter um ataque\n",
      "Eu teria 92.39% de ter um ataque\n"
     ]
    }
   ],
   "source": [
    "lista = []\n",
    "for i in range(len(X_test)):\n",
    "    minha_prob = model.predict_proba(X_test)\n",
    "    prob = (minha_prob[i])\n",
    "    print('Eu teria {}% de ter um ataque'\\\n",
    "      .format(round(prob[1:2][0]*100, 2)))"
   ]
  },
  {
   "cell_type": "code",
   "execution_count": 42,
   "metadata": {},
   "outputs": [
    {
     "data": {
      "text/html": [
       "<div>\n",
       "<style scoped>\n",
       "    .dataframe tbody tr th:only-of-type {\n",
       "        vertical-align: middle;\n",
       "    }\n",
       "\n",
       "    .dataframe tbody tr th {\n",
       "        vertical-align: top;\n",
       "    }\n",
       "\n",
       "    .dataframe thead th {\n",
       "        text-align: right;\n",
       "    }\n",
       "</style>\n",
       "<table border=\"1\" class=\"dataframe\">\n",
       "  <thead>\n",
       "    <tr style=\"text-align: right;\">\n",
       "      <th></th>\n",
       "      <th>idade</th>\n",
       "      <th>sexo</th>\n",
       "      <th>tp_dor_tox</th>\n",
       "      <th>pres_arterial</th>\n",
       "      <th>colestoral_sérico</th>\n",
       "      <th>glicemia_jejum</th>\n",
       "      <th>result_eletrocardio</th>\n",
       "      <th>frequ_card_max</th>\n",
       "      <th>angina_induzida</th>\n",
       "      <th>pico_antigo</th>\n",
       "      <th>incli_seg_ST</th>\n",
       "      <th>nu_vaso_principais</th>\n",
       "      <th>thal</th>\n",
       "      <th>target</th>\n",
       "    </tr>\n",
       "  </thead>\n",
       "  <tbody>\n",
       "    <tr>\n",
       "      <td>10</td>\n",
       "      <td>54</td>\n",
       "      <td>1</td>\n",
       "      <td>0</td>\n",
       "      <td>140</td>\n",
       "      <td>239</td>\n",
       "      <td>0</td>\n",
       "      <td>1</td>\n",
       "      <td>160</td>\n",
       "      <td>0</td>\n",
       "      <td>1.2</td>\n",
       "      <td>2</td>\n",
       "      <td>0</td>\n",
       "      <td>2</td>\n",
       "      <td>1</td>\n",
       "    </tr>\n",
       "    <tr>\n",
       "      <td>11</td>\n",
       "      <td>48</td>\n",
       "      <td>0</td>\n",
       "      <td>2</td>\n",
       "      <td>130</td>\n",
       "      <td>275</td>\n",
       "      <td>0</td>\n",
       "      <td>1</td>\n",
       "      <td>139</td>\n",
       "      <td>0</td>\n",
       "      <td>0.2</td>\n",
       "      <td>2</td>\n",
       "      <td>0</td>\n",
       "      <td>2</td>\n",
       "      <td>1</td>\n",
       "    </tr>\n",
       "    <tr>\n",
       "      <td>12</td>\n",
       "      <td>49</td>\n",
       "      <td>1</td>\n",
       "      <td>1</td>\n",
       "      <td>130</td>\n",
       "      <td>266</td>\n",
       "      <td>0</td>\n",
       "      <td>1</td>\n",
       "      <td>171</td>\n",
       "      <td>0</td>\n",
       "      <td>0.6</td>\n",
       "      <td>2</td>\n",
       "      <td>0</td>\n",
       "      <td>2</td>\n",
       "      <td>1</td>\n",
       "    </tr>\n",
       "    <tr>\n",
       "      <td>13</td>\n",
       "      <td>64</td>\n",
       "      <td>1</td>\n",
       "      <td>3</td>\n",
       "      <td>110</td>\n",
       "      <td>211</td>\n",
       "      <td>0</td>\n",
       "      <td>0</td>\n",
       "      <td>144</td>\n",
       "      <td>1</td>\n",
       "      <td>1.8</td>\n",
       "      <td>1</td>\n",
       "      <td>0</td>\n",
       "      <td>2</td>\n",
       "      <td>1</td>\n",
       "    </tr>\n",
       "    <tr>\n",
       "      <td>14</td>\n",
       "      <td>58</td>\n",
       "      <td>0</td>\n",
       "      <td>3</td>\n",
       "      <td>150</td>\n",
       "      <td>283</td>\n",
       "      <td>1</td>\n",
       "      <td>0</td>\n",
       "      <td>162</td>\n",
       "      <td>0</td>\n",
       "      <td>1.0</td>\n",
       "      <td>2</td>\n",
       "      <td>0</td>\n",
       "      <td>2</td>\n",
       "      <td>1</td>\n",
       "    </tr>\n",
       "    <tr>\n",
       "      <td>15</td>\n",
       "      <td>50</td>\n",
       "      <td>0</td>\n",
       "      <td>2</td>\n",
       "      <td>120</td>\n",
       "      <td>219</td>\n",
       "      <td>0</td>\n",
       "      <td>1</td>\n",
       "      <td>158</td>\n",
       "      <td>0</td>\n",
       "      <td>1.6</td>\n",
       "      <td>1</td>\n",
       "      <td>0</td>\n",
       "      <td>2</td>\n",
       "      <td>1</td>\n",
       "    </tr>\n",
       "  </tbody>\n",
       "</table>\n",
       "</div>"
      ],
      "text/plain": [
       "    idade sexo  tp_dor_tox  pres_arterial  colestoral_sérico  glicemia_jejum  \\\n",
       "10     54    1           0            140                239               0   \n",
       "11     48    0           2            130                275               0   \n",
       "12     49    1           1            130                266               0   \n",
       "13     64    1           3            110                211               0   \n",
       "14     58    0           3            150                283               1   \n",
       "15     50    0           2            120                219               0   \n",
       "\n",
       "    result_eletrocardio  frequ_card_max  angina_induzida  pico_antigo  \\\n",
       "10                    1             160                0          1.2   \n",
       "11                    1             139                0          0.2   \n",
       "12                    1             171                0          0.6   \n",
       "13                    0             144                1          1.8   \n",
       "14                    0             162                0          1.0   \n",
       "15                    1             158                0          1.6   \n",
       "\n",
       "    incli_seg_ST  nu_vaso_principais  thal  target  \n",
       "10             2                   0     2       1  \n",
       "11             2                   0     2       1  \n",
       "12             2                   0     2       1  \n",
       "13             1                   0     2       1  \n",
       "14             2                   0     2       1  \n",
       "15             1                   0     2       1  "
      ]
     },
     "execution_count": 42,
     "metadata": {},
     "output_type": "execute_result"
    }
   ],
   "source": [
    "dado[10:16]"
   ]
  },
  {
   "cell_type": "code",
   "execution_count": null,
   "metadata": {},
   "outputs": [],
   "source": []
  },
  {
   "cell_type": "code",
   "execution_count": 43,
   "metadata": {},
   "outputs": [
    {
     "data": {
      "text/html": [
       "<div>\n",
       "<style scoped>\n",
       "    .dataframe tbody tr th:only-of-type {\n",
       "        vertical-align: middle;\n",
       "    }\n",
       "\n",
       "    .dataframe tbody tr th {\n",
       "        vertical-align: top;\n",
       "    }\n",
       "\n",
       "    .dataframe thead th {\n",
       "        text-align: right;\n",
       "    }\n",
       "</style>\n",
       "<table border=\"1\" class=\"dataframe\">\n",
       "  <thead>\n",
       "    <tr style=\"text-align: right;\">\n",
       "      <th></th>\n",
       "      <th>idade</th>\n",
       "      <th>sexo</th>\n",
       "      <th>tp_dor_tox</th>\n",
       "      <th>pres_arterial</th>\n",
       "      <th>colestoral_sérico</th>\n",
       "      <th>glicemia_jejum</th>\n",
       "      <th>result_eletrocardio</th>\n",
       "      <th>frequ_card_max</th>\n",
       "      <th>angina_induzida</th>\n",
       "      <th>pico_antigo</th>\n",
       "      <th>incli_seg_ST</th>\n",
       "      <th>nu_vaso_principais</th>\n",
       "      <th>thal</th>\n",
       "      <th>target</th>\n",
       "    </tr>\n",
       "  </thead>\n",
       "  <tbody>\n",
       "    <tr>\n",
       "      <td>44</td>\n",
       "      <td>39</td>\n",
       "      <td>1</td>\n",
       "      <td>2</td>\n",
       "      <td>140</td>\n",
       "      <td>321</td>\n",
       "      <td>0</td>\n",
       "      <td>0</td>\n",
       "      <td>182</td>\n",
       "      <td>0</td>\n",
       "      <td>0.0</td>\n",
       "      <td>2</td>\n",
       "      <td>0</td>\n",
       "      <td>2</td>\n",
       "      <td>1</td>\n",
       "    </tr>\n",
       "    <tr>\n",
       "      <td>46</td>\n",
       "      <td>44</td>\n",
       "      <td>1</td>\n",
       "      <td>2</td>\n",
       "      <td>140</td>\n",
       "      <td>235</td>\n",
       "      <td>0</td>\n",
       "      <td>0</td>\n",
       "      <td>180</td>\n",
       "      <td>0</td>\n",
       "      <td>0.0</td>\n",
       "      <td>2</td>\n",
       "      <td>0</td>\n",
       "      <td>2</td>\n",
       "      <td>1</td>\n",
       "    </tr>\n",
       "    <tr>\n",
       "      <td>47</td>\n",
       "      <td>47</td>\n",
       "      <td>1</td>\n",
       "      <td>2</td>\n",
       "      <td>138</td>\n",
       "      <td>257</td>\n",
       "      <td>0</td>\n",
       "      <td>0</td>\n",
       "      <td>156</td>\n",
       "      <td>0</td>\n",
       "      <td>0.0</td>\n",
       "      <td>2</td>\n",
       "      <td>0</td>\n",
       "      <td>2</td>\n",
       "      <td>1</td>\n",
       "    </tr>\n",
       "    <tr>\n",
       "      <td>64</td>\n",
       "      <td>58</td>\n",
       "      <td>1</td>\n",
       "      <td>2</td>\n",
       "      <td>140</td>\n",
       "      <td>211</td>\n",
       "      <td>1</td>\n",
       "      <td>0</td>\n",
       "      <td>165</td>\n",
       "      <td>0</td>\n",
       "      <td>0.0</td>\n",
       "      <td>2</td>\n",
       "      <td>0</td>\n",
       "      <td>2</td>\n",
       "      <td>1</td>\n",
       "    </tr>\n",
       "  </tbody>\n",
       "</table>\n",
       "</div>"
      ],
      "text/plain": [
       "    idade sexo  tp_dor_tox  pres_arterial  colestoral_sérico  glicemia_jejum  \\\n",
       "44     39    1           2            140                321               0   \n",
       "46     44    1           2            140                235               0   \n",
       "47     47    1           2            138                257               0   \n",
       "64     58    1           2            140                211               1   \n",
       "\n",
       "    result_eletrocardio  frequ_card_max  angina_induzida  pico_antigo  \\\n",
       "44                    0             182                0          0.0   \n",
       "46                    0             180                0          0.0   \n",
       "47                    0             156                0          0.0   \n",
       "64                    0             165                0          0.0   \n",
       "\n",
       "    incli_seg_ST  nu_vaso_principais  thal  target  \n",
       "44             2                   0     2       1  \n",
       "46             2                   0     2       1  \n",
       "47             2                   0     2       1  \n",
       "64             2                   0     2       1  "
      ]
     },
     "execution_count": 43,
     "metadata": {},
     "output_type": "execute_result"
    }
   ],
   "source": [
    "dado.query(' tp_dor_tox==2 and result_eletrocardio == 0 and incli_seg_ST == 2 and angina_induzida==0 and thal == 2 and nu_vaso_principais==0 and pico_antigo==0.0 and sexo==1')"
   ]
  },
  {
   "cell_type": "code",
   "execution_count": 44,
   "metadata": {},
   "outputs": [
    {
     "data": {
      "text/html": [
       "<div>\n",
       "<style scoped>\n",
       "    .dataframe tbody tr th:only-of-type {\n",
       "        vertical-align: middle;\n",
       "    }\n",
       "\n",
       "    .dataframe tbody tr th {\n",
       "        vertical-align: top;\n",
       "    }\n",
       "\n",
       "    .dataframe thead th {\n",
       "        text-align: right;\n",
       "    }\n",
       "</style>\n",
       "<table border=\"1\" class=\"dataframe\">\n",
       "  <thead>\n",
       "    <tr style=\"text-align: right;\">\n",
       "      <th></th>\n",
       "      <th>idade</th>\n",
       "      <th>sexo</th>\n",
       "      <th>tp_dor_tox</th>\n",
       "      <th>pres_arterial</th>\n",
       "      <th>colestoral_sérico</th>\n",
       "      <th>glicemia_jejum</th>\n",
       "      <th>result_eletrocardio</th>\n",
       "      <th>frequ_card_max</th>\n",
       "      <th>angina_induzida</th>\n",
       "      <th>pico_antigo</th>\n",
       "      <th>incli_seg_ST</th>\n",
       "      <th>nu_vaso_principais</th>\n",
       "      <th>thal</th>\n",
       "      <th>target</th>\n",
       "    </tr>\n",
       "  </thead>\n",
       "  <tbody>\n",
       "    <tr>\n",
       "      <td>9</td>\n",
       "      <td>57</td>\n",
       "      <td>1</td>\n",
       "      <td>2</td>\n",
       "      <td>150</td>\n",
       "      <td>168</td>\n",
       "      <td>0</td>\n",
       "      <td>1</td>\n",
       "      <td>174</td>\n",
       "      <td>0</td>\n",
       "      <td>1.6</td>\n",
       "      <td>2</td>\n",
       "      <td>0</td>\n",
       "      <td>2</td>\n",
       "      <td>1</td>\n",
       "    </tr>\n",
       "    <tr>\n",
       "      <td>26</td>\n",
       "      <td>59</td>\n",
       "      <td>1</td>\n",
       "      <td>2</td>\n",
       "      <td>150</td>\n",
       "      <td>212</td>\n",
       "      <td>1</td>\n",
       "      <td>1</td>\n",
       "      <td>157</td>\n",
       "      <td>0</td>\n",
       "      <td>1.6</td>\n",
       "      <td>2</td>\n",
       "      <td>0</td>\n",
       "      <td>2</td>\n",
       "      <td>1</td>\n",
       "    </tr>\n",
       "  </tbody>\n",
       "</table>\n",
       "</div>"
      ],
      "text/plain": [
       "    idade sexo  tp_dor_tox  pres_arterial  colestoral_sérico  glicemia_jejum  \\\n",
       "9      57    1           2            150                168               0   \n",
       "26     59    1           2            150                212               1   \n",
       "\n",
       "    result_eletrocardio  frequ_card_max  angina_induzida  pico_antigo  \\\n",
       "9                     1             174                0          1.6   \n",
       "26                    1             157                0          1.6   \n",
       "\n",
       "    incli_seg_ST  nu_vaso_principais  thal  target  \n",
       "9              2                   0     2       1  \n",
       "26             2                   0     2       1  "
      ]
     },
     "execution_count": 44,
     "metadata": {},
     "output_type": "execute_result"
    }
   ],
   "source": [
    "dado.query(' tp_dor_tox==2 and result_eletrocardio == 1 and incli_seg_ST == 2 and angina_induzida==0 and thal == 2 and nu_vaso_principais==0 and pico_antigo==1.6 and sexo==1')"
   ]
  },
  {
   "cell_type": "markdown",
   "metadata": {},
   "source": [
    "http://neylsoncrepalde.github.io/2019-11-25-regressao_logistica_python/"
   ]
  },
  {
   "cell_type": "code",
   "execution_count": 45,
   "metadata": {},
   "outputs": [],
   "source": [
    "def freq(x: pd.Series, plot=False):\n",
    "    contagem = x.value_counts()\n",
    "    percentual = round((x.value_counts() / x.shape[0]) * 100, 3)\n",
    "    res = pd.DataFrame({'values': x.unique(), 'n': contagem, 'perc': percentual})\n",
    "    if plot:\n",
    "        sns.countplot(x)\n",
    "        plt.show()\n",
    "    return res\n"
   ]
  },
  {
   "cell_type": "code",
   "execution_count": 46,
   "metadata": {},
   "outputs": [
    {
     "data": {
      "text/plain": [
       "1    54.455446\n",
       "0    45.544554\n",
       "Name: target, dtype: float64"
      ]
     },
     "execution_count": 46,
     "metadata": {},
     "output_type": "execute_result"
    }
   ],
   "source": [
    "# Quantos sobreviveram e não sobreviveram\n",
    "(dado.target.value_counts() / dado.shape[0]) * 100\n"
   ]
  },
  {
   "cell_type": "code",
   "execution_count": 47,
   "metadata": {},
   "outputs": [
    {
     "data": {
      "image/png": "[encoded data removed]",
      "text/plain": [
       "<Figure size 432x288 with 1 Axes>"
      ]
     },
     "metadata": {
      "needs_background": "light"
     },
     "output_type": "display_data"
    },
    {
     "data": {
      "text/html": [
       "<div>\n",
       "<style scoped>\n",
       "    .dataframe tbody tr th:only-of-type {\n",
       "        vertical-align: middle;\n",
       "    }\n",
       "\n",
       "    .dataframe tbody tr th {\n",
       "        vertical-align: top;\n",
       "    }\n",
       "\n",
       "    .dataframe thead th {\n",
       "        text-align: right;\n",
       "    }\n",
       "</style>\n",
       "<table border=\"1\" class=\"dataframe\">\n",
       "  <thead>\n",
       "    <tr style=\"text-align: right;\">\n",
       "      <th></th>\n",
       "      <th>values</th>\n",
       "      <th>n</th>\n",
       "      <th>perc</th>\n",
       "    </tr>\n",
       "  </thead>\n",
       "  <tbody>\n",
       "    <tr>\n",
       "      <td>1</td>\n",
       "      <td>1</td>\n",
       "      <td>207</td>\n",
       "      <td>68.317</td>\n",
       "    </tr>\n",
       "    <tr>\n",
       "      <td>0</td>\n",
       "      <td>0</td>\n",
       "      <td>96</td>\n",
       "      <td>31.683</td>\n",
       "    </tr>\n",
       "  </tbody>\n",
       "</table>\n",
       "</div>"
      ],
      "text/plain": [
       "  values    n    perc\n",
       "1      1  207  68.317\n",
       "0      0   96  31.683"
      ]
     },
     "execution_count": 47,
     "metadata": {},
     "output_type": "execute_result"
    }
   ],
   "source": [
    "freq(dado.sexo, plot=True)\n"
   ]
  },
  {
   "cell_type": "markdown",
   "metadata": {},
   "source": [
    "# escolhendo as variaveis para o modelo de Classificação"
   ]
  },
  {
   "cell_type": "markdown",
   "metadata": {},
   "source": [
    "podemos tentar identificar se há correlação entre as variavéis"
   ]
  },
  {
   "cell_type": "code",
   "execution_count": null,
   "metadata": {
    "scrolled": true
   },
   "outputs": [],
   "source": []
  },
  {
   "cell_type": "code",
   "execution_count": 48,
   "metadata": {},
   "outputs": [],
   "source": [
    "from sklearn.datasets import load_iris\n",
    "from sklearn.feature_selection import chi2\n",
    "from sklearn.feature_selection import SelectKBest\n",
    "\n",
    "from sklearn.feature_selection import f_regression\n",
    "from sklearn.linear_model import LinearRegression"
   ]
  },
  {
   "cell_type": "code",
   "execution_count": null,
   "metadata": {},
   "outputs": [],
   "source": []
  },
  {
   "cell_type": "code",
   "execution_count": 49,
   "metadata": {},
   "outputs": [
    {
     "name": "stderr",
     "output_type": "stream",
     "text": [
      "C:\\Users\\MiriamCristinaSantos\\Anaconda3\\lib\\site-packages\\sklearn\\ensemble\\forest.py:245: FutureWarning: The default value of n_estimators will change from 10 in version 0.20 to 100 in 0.22.\n",
      "  \"10 in version 0.20 to 100 in 0.22.\", FutureWarning)\n"
     ]
    },
    {
     "data": {
      "text/plain": [
       "array([0.10579472, 0.02112956, 0.09091841, 0.07416961, 0.03999532,\n",
       "       0.00112365, 0.01571635, 0.10349224, 0.04551444, 0.09488434,\n",
       "       0.07188441, 0.2098204 , 0.12555654])"
      ]
     },
     "execution_count": 49,
     "metadata": {},
     "output_type": "execute_result"
    }
   ],
   "source": [
    "from sklearn.model_selection import train_test_split\n",
    "from sklearn.ensemble import RandomForestClassifier\n",
    "import pandas as pd\n",
    "import seaborn as sns# Carregando dataset\n",
    "\n",
    "X2 = dado[['idade','sexo','tp_dor_tox','pres_arterial','colestoral_sérico','glicemia_jejum',    \n",
    "'result_eletrocardio'   ,\n",
    "'frequ_card_max'            ,\n",
    "'angina_induzida',\n",
    "'pico_antigo'  ,\n",
    "'incli_seg_ST'      ,\n",
    " 'nu_vaso_principais',\n",
    " 'thal']]\n",
    "Y2 = dado.target# Criando conjunto de treino e teste\n",
    "X_train, X_test, y_train, y_test = train_test_split(X2, Y2, random_state=42)# Treinando modelo\n",
    "model_randomforest  = RandomForestClassifier()\n",
    "model_randomforest.fit(X_train, y_train)# Mostrando importância de cada feature\n",
    "model_randomforest.feature_importances_"
   ]
  },
  {
   "cell_type": "code",
   "execution_count": 50,
   "metadata": {},
   "outputs": [
    {
     "data": {
      "text/plain": [
       "0.9999999999999999"
      ]
     },
     "execution_count": 50,
     "metadata": {},
     "output_type": "execute_result"
    }
   ],
   "source": [
    "0.1119876 + 0.03353875+ 0.1259624 +0.05801383+ 0.09194341+0.01479495+ 0.01201865+ 0.0998143 + 0.0539836 + 0.11418677+0.05222034+ 0.17040528+0.06113012"
   ]
  },
  {
   "cell_type": "markdown",
   "metadata": {},
   "source": [
    " Se  somar todos os elementos , verá que o resultado será 1 ou próximo de 1. Ao analisar esse array, podemos ver que a feature mais importante para o algoritmo foi a vigéssima segunda, nu_vaso_principais. Se quiser gerar uma visualização para ver as features mais importantes, o código é similar a esse:"
   ]
  },
  {
   "cell_type": "code",
   "execution_count": 52,
   "metadata": {},
   "outputs": [
    {
     "data": {
      "text/plain": [
       "Text(0.5, 1.0, 'Importância de cada feature')"
      ]
     },
     "execution_count": 52,
     "metadata": {},
     "output_type": "execute_result"
    },
    {
     "data": {
      "image/png": "[encoded data removed]",
      "text/plain": [
       "<Figure size 432x288 with 1 Axes>"
      ]
     },
     "metadata": {
      "needs_background": "light"
     },
     "output_type": "display_data"
    }
   ],
   "source": [
    "importances = pd.Series(data=model_randomforest.feature_importances_, index=X2.columns)\n",
    "sns.barplot(x=importances, y=importances.index, orient='h').set_title('Importância de cada feature')"
   ]
  },
  {
   "cell_type": "markdown",
   "metadata": {},
   "source": [
    "Cuidado com esse método! As vezes, os valores mostrados pelo feature_importances_ pode ser enviesado dependendo dos parâmetros definidos na criação do objeto. O que isso quer dizer? Evite usar os parâmetros default do RandomForestClassifier()"
   ]
  },
  {
   "cell_type": "markdown",
   "metadata": {},
   "source": [
    "SELECIONANDO FEATURES COM O KBEST\n",
    "KBEST É UM TESTE ESTÁTISTICO UNIVARIADO\n",
    "\n",
    "\n",
    " Basta informar que quer selecionar apenas as K maiores features do seu dataset com base em um teste estatístico"
   ]
  },
  {
   "cell_type": "code",
   "execution_count": 53,
   "metadata": {},
   "outputs": [],
   "source": [
    "from sklearn.feature_selection import chi2\n",
    "from sklearn.feature_selection import SelectKBest\n",
    "X3 = dado[['idade','sexo','tp_dor_tox','pres_arterial','colestoral_sérico','glicemia_jejum',    \n",
    "'result_eletrocardio'   ,\n",
    "'frequ_card_max'            ,\n",
    "'angina_induzida',\n",
    "'pico_antigo'  ,\n",
    "'incli_seg_ST'      ,\n",
    " 'nu_vaso_principais',\n",
    " 'thal']]\n",
    "Y3 = dado.target = SelectKBest(chi2, k=3).fit_transform(X, Y)"
   ]
  },
  {
   "cell_type": "code",
   "execution_count": 54,
   "metadata": {},
   "outputs": [
    {
     "name": "stdout",
     "output_type": "stream",
     "text": [
      "[[3.  0.  2.3]\n",
      " [2.  0.  3.5]\n",
      " [1.  0.  1.4]\n",
      " [1.  0.  0.8]\n",
      " [0.  0.  0.6]]\n"
     ]
    }
   ],
   "source": [
    "print(Y3[:5]) # variável recem criada para os 3 melhores recursos"
   ]
  },
  {
   "cell_type": "code",
   "execution_count": 55,
   "metadata": {},
   "outputs": [
    {
     "name": "stdout",
     "output_type": "stream",
     "text": [
      "   tp_dor_tox  result_eletrocardio  incli_seg_ST  angina_induzida  thal  \\\n",
      "0           3                    0             0                0     1   \n",
      "1           2                    1             0                0     2   \n",
      "2           1                    0             2                0     2   \n",
      "3           1                    1             2                0     2   \n",
      "4           0                    1             2                1     2   \n",
      "\n",
      "   nu_vaso_principais  pico_antigo  sexo_1  \n",
      "0                   0          2.3       1  \n",
      "1                   0          3.5       1  \n",
      "2                   0          1.4       0  \n",
      "3                   0          0.8       1  \n",
      "4                   0          0.6       0  \n"
     ]
    }
   ],
   "source": [
    "print(X.head()) # comparar os valores acima com o da base X, podemos vê que as melhores variáveis são tp_dor_tox, nu_vaso_principais e pico_antigo "
   ]
  },
  {
   "cell_type": "markdown",
   "metadata": {},
   "source": [
    "A parte Ruim é que escolher o número K ideal muitas vezes é uma tarefa difícil"
   ]
  },
  {
   "cell_type": "markdown",
   "metadata": {},
   "source": [
    "https://paulovasconcellos.com.br/como-selecionar-as-melhores-features-para-seu-modelo-de-machine-learning-2e9df83d062a"
   ]
  },
  {
   "cell_type": "code",
   "execution_count": 56,
   "metadata": {},
   "outputs": [
    {
     "name": "stderr",
     "output_type": "stream",
     "text": [
      "C:\\Users\\MiriamCristinaSantos\\Anaconda3\\lib\\site-packages\\sklearn\\svm\\base.py:929: ConvergenceWarning: Liblinear failed to converge, increase the number of iterations.\n",
      "  \"the number of iterations.\", ConvergenceWarning)\n",
      "C:\\Users\\MiriamCristinaSantos\\Anaconda3\\lib\\site-packages\\sklearn\\svm\\base.py:929: ConvergenceWarning: Liblinear failed to converge, increase the number of iterations.\n",
      "  \"the number of iterations.\", ConvergenceWarning)\n",
      "C:\\Users\\MiriamCristinaSantos\\Anaconda3\\lib\\site-packages\\sklearn\\svm\\base.py:929: ConvergenceWarning: Liblinear failed to converge, increase the number of iterations.\n",
      "  \"the number of iterations.\", ConvergenceWarning)\n",
      "C:\\Users\\MiriamCristinaSantos\\Anaconda3\\lib\\site-packages\\sklearn\\svm\\base.py:929: ConvergenceWarning: Liblinear failed to converge, increase the number of iterations.\n",
      "  \"the number of iterations.\", ConvergenceWarning)\n",
      "C:\\Users\\MiriamCristinaSantos\\Anaconda3\\lib\\site-packages\\sklearn\\svm\\base.py:929: ConvergenceWarning: Liblinear failed to converge, increase the number of iterations.\n",
      "  \"the number of iterations.\", ConvergenceWarning)\n"
     ]
    }
   ],
   "source": [
    "from sklearn.svm import LinearSVC\n",
    "from sklearn.feature_selection import RFE\n",
    "X3 = dado[['idade','sexo','tp_dor_tox','pres_arterial','colestoral_sérico','glicemia_jejum',    \n",
    "'result_eletrocardio'   ,\n",
    "'frequ_card_max'            ,\n",
    "'angina_induzida',\n",
    "'pico_antigo'  ,\n",
    "'incli_seg_ST'      ,\n",
    " 'nu_vaso_principais',\n",
    " 'thal']]\n",
    "Y3 = dado.target# \n",
    "model = LinearSVC()\n",
    "rfe = RFE(model, step=1).fit(X3, Y3)"
   ]
  },
  {
   "cell_type": "markdown",
   "metadata": {},
   "source": [
    "PREDIÇÃO DO RandomForestClassifier()"
   ]
  },
  {
   "cell_type": "code",
   "execution_count": 57,
   "metadata": {},
   "outputs": [
    {
     "name": "stderr",
     "output_type": "stream",
     "text": [
      "C:\\Users\\MiriamCristinaSantos\\Anaconda3\\lib\\site-packages\\sklearn\\svm\\base.py:929: ConvergenceWarning: Liblinear failed to converge, increase the number of iterations.\n",
      "  \"the number of iterations.\", ConvergenceWarning)\n"
     ]
    },
    {
     "data": {
      "text/plain": [
       "LinearSVC(C=1.0, class_weight=None, dual=True, fit_intercept=True,\n",
       "          intercept_scaling=1, loss='squared_hinge', max_iter=1000,\n",
       "          multi_class='ovr', penalty='l2', random_state=None, tol=0.0001,\n",
       "          verbose=0)"
      ]
     },
     "execution_count": 57,
     "metadata": {},
     "output_type": "execute_result"
    }
   ],
   "source": [
    "X_train, X_test, y_train, y_test = train_test_split(X2, Y2, random_state=42)# Treinando modelo\n",
    "model.fit(X_train, y_train)"
   ]
  },
  {
   "cell_type": "code",
   "execution_count": 58,
   "metadata": {},
   "outputs": [],
   "source": [
    "pred = model_randomforest.predict(X_test)"
   ]
  },
  {
   "cell_type": "code",
   "execution_count": 79,
   "metadata": {},
   "outputs": [
    {
     "data": {
      "text/html": [
       "<div>\n",
       "<style scoped>\n",
       "    .dataframe tbody tr th:only-of-type {\n",
       "        vertical-align: middle;\n",
       "    }\n",
       "\n",
       "    .dataframe tbody tr th {\n",
       "        vertical-align: top;\n",
       "    }\n",
       "\n",
       "    .dataframe thead th {\n",
       "        text-align: right;\n",
       "    }\n",
       "</style>\n",
       "<table border=\"1\" class=\"dataframe\">\n",
       "  <thead>\n",
       "    <tr style=\"text-align: right;\">\n",
       "      <th></th>\n",
       "      <th>nu_vaso_principais</th>\n",
       "      <th>pico_antigo</th>\n",
       "    </tr>\n",
       "  </thead>\n",
       "  <tbody>\n",
       "    <tr>\n",
       "      <td>179</td>\n",
       "      <td>1</td>\n",
       "      <td>0.6</td>\n",
       "    </tr>\n",
       "    <tr>\n",
       "      <td>228</td>\n",
       "      <td>0</td>\n",
       "      <td>0.2</td>\n",
       "    </tr>\n",
       "    <tr>\n",
       "      <td>111</td>\n",
       "      <td>1</td>\n",
       "      <td>0.2</td>\n",
       "    </tr>\n",
       "    <tr>\n",
       "      <td>246</td>\n",
       "      <td>2</td>\n",
       "      <td>1.9</td>\n",
       "    </tr>\n",
       "    <tr>\n",
       "      <td>60</td>\n",
       "      <td>1</td>\n",
       "      <td>0.0</td>\n",
       "    </tr>\n",
       "    <tr>\n",
       "      <td>...</td>\n",
       "      <td>...</td>\n",
       "      <td>...</td>\n",
       "    </tr>\n",
       "    <tr>\n",
       "      <td>22</td>\n",
       "      <td>0</td>\n",
       "      <td>0.0</td>\n",
       "    </tr>\n",
       "    <tr>\n",
       "      <td>258</td>\n",
       "      <td>0</td>\n",
       "      <td>1.4</td>\n",
       "    </tr>\n",
       "    <tr>\n",
       "      <td>56</td>\n",
       "      <td>0</td>\n",
       "      <td>0.0</td>\n",
       "    </tr>\n",
       "    <tr>\n",
       "      <td>242</td>\n",
       "      <td>2</td>\n",
       "      <td>2.0</td>\n",
       "    </tr>\n",
       "    <tr>\n",
       "      <td>114</td>\n",
       "      <td>0</td>\n",
       "      <td>0.0</td>\n",
       "    </tr>\n",
       "  </tbody>\n",
       "</table>\n",
       "<p>76 rows × 2 columns</p>\n",
       "</div>"
      ],
      "text/plain": [
       "     nu_vaso_principais  pico_antigo\n",
       "179                   1          0.6\n",
       "228                   0          0.2\n",
       "111                   1          0.2\n",
       "246                   2          1.9\n",
       "60                    1          0.0\n",
       "..                  ...          ...\n",
       "22                    0          0.0\n",
       "258                   0          1.4\n",
       "56                    0          0.0\n",
       "242                   2          2.0\n",
       "114                   0          0.0\n",
       "\n",
       "[76 rows x 2 columns]"
      ]
     },
     "execution_count": 79,
     "metadata": {},
     "output_type": "execute_result"
    }
   ],
   "source": [
    "X_test"
   ]
  },
  {
   "cell_type": "code",
   "execution_count": 59,
   "metadata": {},
   "outputs": [
    {
     "name": "stdout",
     "output_type": "stream",
     "text": [
      "predição 0\n",
      "predição 1\n",
      "predição 0\n",
      "predição 0\n",
      "predição 1\n",
      "predição 1\n",
      "predição 1\n",
      "predição 0\n",
      "predição 0\n",
      "predição 0\n",
      "predição 1\n",
      "predição 0\n",
      "predição 1\n",
      "predição 0\n",
      "predição 1\n",
      "predição 1\n",
      "predição 1\n",
      "predição 0\n",
      "predição 0\n",
      "predição 0\n",
      "predição 1\n",
      "predição 0\n",
      "predição 1\n",
      "predição 1\n",
      "predição 0\n",
      "predição 1\n",
      "predição 1\n",
      "predição 1\n",
      "predição 0\n",
      "predição 0\n",
      "predição 0\n",
      "predição 0\n",
      "predição 0\n",
      "predição 0\n",
      "predição 1\n",
      "predição 0\n",
      "predição 1\n",
      "predição 1\n",
      "predição 0\n",
      "predição 1\n",
      "predição 1\n",
      "predição 1\n",
      "predição 1\n",
      "predição 1\n",
      "predição 1\n",
      "predição 0\n",
      "predição 1\n",
      "predição 1\n",
      "predição 0\n",
      "predição 0\n",
      "predição 0\n",
      "predição 0\n",
      "predição 1\n",
      "predição 1\n",
      "predição 0\n",
      "predição 0\n",
      "predição 0\n",
      "predição 1\n",
      "predição 0\n",
      "predição 0\n",
      "predição 0\n",
      "predição 1\n",
      "predição 1\n",
      "predição 1\n",
      "predição 1\n",
      "predição 0\n",
      "predição 0\n",
      "predição 1\n",
      "predição 1\n",
      "predição 1\n",
      "predição 1\n",
      "predição 1\n",
      "predição 1\n",
      "predição 1\n",
      "predição 0\n",
      "predição 1\n"
     ]
    }
   ],
   "source": [
    "lista = []\n",
    "for i in range(len(X_test)):\n",
    "    minha_prob = model_randomforest.predict(X_test)\n",
    "    prob = (minha_prob[i])\n",
    "    print('predição {}'\\\n",
    "      .format(prob))"
   ]
  },
  {
   "cell_type": "code",
   "execution_count": 60,
   "metadata": {},
   "outputs": [
    {
     "name": "stdout",
     "output_type": "stream",
     "text": [
      "Eu teria 10.0% de ter um ataque\n",
      "Eu teria 70.0% de ter um ataque\n",
      "Eu teria 50.0% de ter um ataque\n",
      "Eu teria 10.0% de ter um ataque\n",
      "Eu teria 100.0% de ter um ataque\n",
      "Eu teria 100.0% de ter um ataque\n",
      "Eu teria 70.0% de ter um ataque\n",
      "Eu teria 0.0% de ter um ataque\n",
      "Eu teria 0.0% de ter um ataque\n",
      "Eu teria 20.0% de ter um ataque\n",
      "Eu teria 80.0% de ter um ataque\n",
      "Eu teria 30.0% de ter um ataque\n",
      "Eu teria 100.0% de ter um ataque\n",
      "Eu teria 30.0% de ter um ataque\n",
      "Eu teria 100.0% de ter um ataque\n",
      "Eu teria 100.0% de ter um ataque\n",
      "Eu teria 100.0% de ter um ataque\n",
      "Eu teria 10.0% de ter um ataque\n",
      "Eu teria 0.0% de ter um ataque\n",
      "Eu teria 0.0% de ter um ataque\n",
      "Eu teria 60.0% de ter um ataque\n",
      "Eu teria 0.0% de ter um ataque\n",
      "Eu teria 60.0% de ter um ataque\n",
      "Eu teria 90.0% de ter um ataque\n",
      "Eu teria 40.0% de ter um ataque\n",
      "Eu teria 70.0% de ter um ataque\n",
      "Eu teria 90.0% de ter um ataque\n",
      "Eu teria 80.0% de ter um ataque\n",
      "Eu teria 0.0% de ter um ataque\n",
      "Eu teria 40.0% de ter um ataque\n",
      "Eu teria 10.0% de ter um ataque\n",
      "Eu teria 10.0% de ter um ataque\n",
      "Eu teria 0.0% de ter um ataque\n",
      "Eu teria 40.0% de ter um ataque\n",
      "Eu teria 80.0% de ter um ataque\n",
      "Eu teria 20.0% de ter um ataque\n",
      "Eu teria 60.0% de ter um ataque\n",
      "Eu teria 70.0% de ter um ataque\n",
      "Eu teria 40.0% de ter um ataque\n",
      "Eu teria 70.0% de ter um ataque\n",
      "Eu teria 90.0% de ter um ataque\n",
      "Eu teria 100.0% de ter um ataque\n",
      "Eu teria 90.0% de ter um ataque\n",
      "Eu teria 60.0% de ter um ataque\n",
      "Eu teria 80.0% de ter um ataque\n",
      "Eu teria 20.0% de ter um ataque\n",
      "Eu teria 70.0% de ter um ataque\n",
      "Eu teria 100.0% de ter um ataque\n",
      "Eu teria 10.0% de ter um ataque\n",
      "Eu teria 0.0% de ter um ataque\n",
      "Eu teria 20.0% de ter um ataque\n",
      "Eu teria 30.0% de ter um ataque\n",
      "Eu teria 80.0% de ter um ataque\n",
      "Eu teria 60.0% de ter um ataque\n",
      "Eu teria 0.0% de ter um ataque\n",
      "Eu teria 30.0% de ter um ataque\n",
      "Eu teria 50.0% de ter um ataque\n",
      "Eu teria 100.0% de ter um ataque\n",
      "Eu teria 30.0% de ter um ataque\n",
      "Eu teria 0.0% de ter um ataque\n",
      "Eu teria 10.0% de ter um ataque\n",
      "Eu teria 100.0% de ter um ataque\n",
      "Eu teria 60.0% de ter um ataque\n",
      "Eu teria 60.0% de ter um ataque\n",
      "Eu teria 90.0% de ter um ataque\n",
      "Eu teria 20.0% de ter um ataque\n",
      "Eu teria 40.0% de ter um ataque\n",
      "Eu teria 70.0% de ter um ataque\n",
      "Eu teria 80.0% de ter um ataque\n",
      "Eu teria 90.0% de ter um ataque\n",
      "Eu teria 80.0% de ter um ataque\n",
      "Eu teria 100.0% de ter um ataque\n",
      "Eu teria 90.0% de ter um ataque\n",
      "Eu teria 80.0% de ter um ataque\n",
      "Eu teria 40.0% de ter um ataque\n",
      "Eu teria 100.0% de ter um ataque\n"
     ]
    }
   ],
   "source": [
    "lista = []\n",
    "for i in range(len(X_test)):\n",
    "    minha_prob = model_randomforest.predict_proba(X_test)\n",
    "    prob = (minha_prob[i])\n",
    "    print('Eu teria {}% de ter um ataque'\\\n",
    "      .format(round(prob[1:2][0]*100, 2)))"
   ]
  },
  {
   "cell_type": "code",
   "execution_count": 61,
   "metadata": {},
   "outputs": [
    {
     "name": "stdout",
     "output_type": "stream",
     "text": [
      "Model accuracy score with doors variable removed : 0.7632\n"
     ]
    }
   ],
   "source": [
    "print('Model accuracy score with doors variable removed : {0:0.4f}'. format(accuracy_score(y_test, pred)))"
   ]
  },
  {
   "cell_type": "markdown",
   "metadata": {},
   "source": [
    "**Criando modelo com as melhores features segundo kbest**"
   ]
  },
  {
   "cell_type": "code",
   "execution_count": 62,
   "metadata": {},
   "outputs": [
    {
     "name": "stderr",
     "output_type": "stream",
     "text": [
      "C:\\Users\\MiriamCristinaSantos\\Anaconda3\\lib\\site-packages\\sklearn\\ensemble\\forest.py:245: FutureWarning: The default value of n_estimators will change from 10 in version 0.20 to 100 in 0.22.\n",
      "  \"10 in version 0.20 to 100 in 0.22.\", FutureWarning)\n"
     ]
    },
    {
     "data": {
      "text/plain": [
       "RandomForestClassifier(bootstrap=True, class_weight=None, criterion='gini',\n",
       "                       max_depth=None, max_features='auto', max_leaf_nodes=None,\n",
       "                       min_impurity_decrease=0.0, min_impurity_split=None,\n",
       "                       min_samples_leaf=1, min_samples_split=2,\n",
       "                       min_weight_fraction_leaf=0.0, n_estimators=10,\n",
       "                       n_jobs=None, oob_score=False, random_state=None,\n",
       "                       verbose=0, warm_start=False)"
      ]
     },
     "execution_count": 62,
     "metadata": {},
     "output_type": "execute_result"
    }
   ],
   "source": [
    "from sklearn.model_selection import train_test_split\n",
    "from sklearn.ensemble import RandomForestClassifier\n",
    "import pandas as pd\n",
    "import seaborn as sns# Carregando dataset\n",
    "\n",
    "X4 = dado[['tp_dor_tox', 'nu_vaso_principais', 'pico_antigo']]\n",
    "Y4 = dado.target# Criando conjunto de treino e teste\n",
    "X_train, X_test, y_train, y_test = train_test_split(X4, Y4, random_state=42)# Treinando modelo\n",
    "model_randomforest  = RandomForestClassifier()\n",
    "model_randomforest.fit(X_train, y_train)# Mostrando importância de cada feature"
   ]
  },
  {
   "cell_type": "code",
   "execution_count": 63,
   "metadata": {},
   "outputs": [],
   "source": [
    "pred2 = model_randomforest.predict(X_test)"
   ]
  },
  {
   "cell_type": "code",
   "execution_count": 64,
   "metadata": {},
   "outputs": [
    {
     "name": "stdout",
     "output_type": "stream",
     "text": [
      "Model accuracy score with doors variable removed : 0.9868\n"
     ]
    }
   ],
   "source": [
    "print('Model accuracy score with doors variable removed : {0:0.4f}'. format(accuracy_score(y_test, pred2)))"
   ]
  },
  {
   "cell_type": "markdown",
   "metadata": {},
   "source": [
    "**Criando modelo com as melhores features segundo feature_importances_**"
   ]
  },
  {
   "cell_type": "code",
   "execution_count": 65,
   "metadata": {},
   "outputs": [
    {
     "name": "stderr",
     "output_type": "stream",
     "text": [
      "C:\\Users\\MiriamCristinaSantos\\Anaconda3\\lib\\site-packages\\sklearn\\ensemble\\forest.py:245: FutureWarning: The default value of n_estimators will change from 10 in version 0.20 to 100 in 0.22.\n",
      "  \"10 in version 0.20 to 100 in 0.22.\", FutureWarning)\n"
     ]
    },
    {
     "data": {
      "text/plain": [
       "RandomForestClassifier(bootstrap=True, class_weight=None, criterion='gini',\n",
       "                       max_depth=None, max_features='auto', max_leaf_nodes=None,\n",
       "                       min_impurity_decrease=0.0, min_impurity_split=None,\n",
       "                       min_samples_leaf=1, min_samples_split=2,\n",
       "                       min_weight_fraction_leaf=0.0, n_estimators=10,\n",
       "                       n_jobs=None, oob_score=False, random_state=None,\n",
       "                       verbose=0, warm_start=False)"
      ]
     },
     "execution_count": 65,
     "metadata": {},
     "output_type": "execute_result"
    }
   ],
   "source": [
    "from sklearn.model_selection import train_test_split\n",
    "from sklearn.ensemble import RandomForestClassifier\n",
    "import pandas as pd\n",
    "import seaborn as sns# Carregando dataset\n",
    "\n",
    "X4 = dado[['nu_vaso_principais', 'pico_antigo']]\n",
    "Y4 = dado.target# Criando conjunto de treino e teste\n",
    "X_train, X_test, y_train, y_test = train_test_split(X4, Y4, random_state=42)# Treinando modelo\n",
    "model_randomforest  = RandomForestClassifier()\n",
    "model_randomforest.fit(X_train, y_train)# Mostrando importância de cada feature"
   ]
  },
  {
   "cell_type": "code",
   "execution_count": 66,
   "metadata": {},
   "outputs": [],
   "source": [
    "pred3 = model_randomforest.predict(X_test)"
   ]
  },
  {
   "cell_type": "code",
   "execution_count": 67,
   "metadata": {},
   "outputs": [
    {
     "name": "stdout",
     "output_type": "stream",
     "text": [
      "Model accuracy score with doors variable removed : 0.3289\n"
     ]
    }
   ],
   "source": [
    "print('Model accuracy score with doors variable removed : {0:0.4f}'. format(accuracy_score(y_test, pred3)))"
   ]
  },
  {
   "cell_type": "code",
   "execution_count": null,
   "metadata": {},
   "outputs": [],
   "source": []
  },
  {
   "cell_type": "markdown",
   "metadata": {},
   "source": [
    " o **feature_importances_** não foi muito acertivo ao determinar as melhores features, porém tivemos uma melhora na acurracia com as variáveis do kbeast"
   ]
  },
  {
   "cell_type": "markdown",
   "metadata": {},
   "source": []
  },
  {
   "cell_type": "code",
   "execution_count": 69,
   "metadata": {},
   "outputs": [],
   "source": [
    "X4 = dado[['idade','sexo','tp_dor_tox','pres_arterial','colestoral_sérico','glicemia_jejum',    \n",
    "'result_eletrocardio'   ,\n",
    "'frequ_card_max'            ,\n",
    "'angina_induzida',\n",
    "'pico_antigo'  ,\n",
    "'incli_seg_ST'      ,\n",
    " 'nu_vaso_principais',\n",
    " 'thal']]\n",
    "Y4= dado.target# Criando conjunto de treino e teste"
   ]
  },
  {
   "cell_type": "code",
   "execution_count": 72,
   "metadata": {},
   "outputs": [
    {
     "name": "stdout",
     "output_type": "stream",
     "text": [
      "     tp_dor_tox  nu_vaso_principais  pico_antigo\n",
      "0             3                   0          2.3\n",
      "1             2                   0          3.5\n",
      "2             1                   0          1.4\n",
      "3             1                   0          0.8\n",
      "4             0                   0          0.6\n",
      "..          ...                 ...          ...\n",
      "298           0                   0          0.2\n",
      "299           3                   0          1.2\n",
      "300           0                   2          3.4\n",
      "301           0                   1          1.2\n",
      "302           1                   1          0.0\n",
      "\n",
      "[303 rows x 3 columns]\n"
     ]
    }
   ],
   "source": [
    "model = LogisticRegression(penalty='none', solver='newton-cg')\n",
    "baseline_df = dado[['target', 'tp_dor_tox', 'nu_vaso_principais', 'pico_antigo']].dropna()\n",
    "Y4 = baseline_df.target\n",
    "X4 = pd.get_dummies(baseline_df[['tp_dor_tox', 'nu_vaso_principais', 'pico_antigo']], drop_first=True)\n",
    "print(X4)"
   ]
  },
  {
   "cell_type": "code",
   "execution_count": 73,
   "metadata": {},
   "outputs": [
    {
     "name": "stderr",
     "output_type": "stream",
     "text": [
      "C:\\Users\\MiriamCristinaSantos\\Anaconda3\\lib\\site-packages\\sklearn\\linear_model\\logistic.py:469: FutureWarning: Default multi_class will be changed to 'auto' in 0.22. Specify the multi_class option to silence this warning.\n",
      "  \"this warning.\", FutureWarning)\n"
     ]
    },
    {
     "data": {
      "text/plain": [
       "LogisticRegression(C=1.0, class_weight=None, dual=False, fit_intercept=True,\n",
       "                   intercept_scaling=1, l1_ratio=None, max_iter=100,\n",
       "                   multi_class='warn', n_jobs=None, penalty='none',\n",
       "                   random_state=None, solver='newton-cg', tol=0.0001, verbose=0,\n",
       "                   warm_start=False)"
      ]
     },
     "execution_count": 73,
     "metadata": {},
     "output_type": "execute_result"
    }
   ],
   "source": [
    "model.fit(X4,Y4)"
   ]
  },
  {
   "cell_type": "code",
   "execution_count": 74,
   "metadata": {},
   "outputs": [
    {
     "name": "stdout",
     "output_type": "stream",
     "text": [
      "O modelo obteve 0.9472 de acurácia.\n"
     ]
    }
   ],
   "source": [
    "acuracia = accuracy_score(Y4, model.predict(X4))\n",
    "print('O modelo obteve %0.4f de acurácia.' % acuracia)"
   ]
  },
  {
   "cell_type": "code",
   "execution_count": null,
   "metadata": {},
   "outputs": [],
   "source": []
  }
 ],
 "metadata": {
  "kernelspec": {
   "display_name": "Python 3",
   "language": "python",
   "name": "python3"
  },
  "language_info": {
   "codemirror_mode": {
    "name": "ipython",
    "version": 3
   },
   "file_extension": ".py",
   "mimetype": "text/x-python",
   "name": "python",
   "nbconvert_exporter": "python",
   "pygments_lexer": "ipython3",
   "version": "3.7.4"
  }
 },
 "nbformat": 4,
 "nbformat_minor": 2
}
